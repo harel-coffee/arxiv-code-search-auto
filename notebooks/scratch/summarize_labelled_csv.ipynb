{
 "cells": [
  {
   "cell_type": "code",
   "execution_count": 1,
   "metadata": {},
   "outputs": [],
   "source": [
    "import pandas as pd\n",
    "import numpy as np\n",
    "from pathlib import Path"
   ]
  },
  {
   "cell_type": "code",
   "execution_count": 2,
   "metadata": {},
   "outputs": [
    {
     "data": {
      "text/plain": [
       "PosixPath('/home/tim/Documents/arxiv-code-search/data/processed/labels/labels_complete')"
      ]
     },
     "execution_count": 2,
     "metadata": {},
     "output_type": "execute_result"
    }
   ],
   "source": [
    "proj_dir = Path.cwd().parent.parent\n",
    "path_label_dir = proj_dir / \"data/processed/labels/labels_complete\"\n",
    "path_label_dir"
   ]
  },
  {
   "cell_type": "code",
   "execution_count": 12,
   "metadata": {},
   "outputs": [],
   "source": [
    "def summarize_final_label_file(file_path, n_articles):\n",
    "\n",
    "    # get file_name from file_path\n",
    "    file_name = file_path.stem\n",
    "\n",
    "    if file_name.endswith(\".csv\"):\n",
    "        df = pd.read_csv(file_path, parse_dates=['update_date'])\n",
    "    else:\n",
    "        df = pd.read_excel(file_path, parse_dates=['update_date'], \n",
    "                            engine='odf', names=[\"id\", \"pattern\", \"token_count\", \"update_date\", \"label\", \"para\"],)\n",
    "    \n",
    "    # group id and aggregate by max label\n",
    "    dfr = df.groupby([\"id\"]).agg({\"label\": \"max\"}).reset_index()\n",
    "\n",
    "    # replace any NaN in \"label\" column with 0\n",
    "    dfr.label.fillna(0, inplace=True)\n",
    "\n",
    "    # the number of articles may have been more than what is contained in the file (because no keywords may have been found)\n",
    "    n_articles_df = len(dfr)\n",
    "\n",
    "    df_label_count = dfr.groupby('label').count().reset_index().astype(int)\n",
    "    df_label_count = df_label_count.iloc[:,:2]\n",
    "    df_label_count.columns = ['label', 'count']\n",
    "\n",
    "    # the difference between n_articles and n_articles_df is the number of articles that had no keywords in the search\n",
    "    df_label_count.loc[0, 'count'] += n_articles - n_articles_df\n",
    "\n",
    "    # create new column called \"label_name\" where the value is 0 if the label is 0, 1 if the label is greater than 0\n",
    "    df_label_count['label_name'] = df_label_count.label.apply(\n",
    "        lambda x: \"Data and Code Not Available\" if x == 0 else \"Data or Code Publicly Available\"\n",
    "        )\n",
    "    df_label_count = df_label_count.groupby([\"label_name\"]).agg({\"count\": \"sum\"}).reset_index()\n",
    "    df_label_count['percentage'] = df_label_count['count'] / df_label_count['count'].sum() * 100\n",
    "\n",
    "    return df_label_count"
   ]
  },
  {
   "cell_type": "code",
   "execution_count": 15,
   "metadata": {},
   "outputs": [
    {
     "data": {
      "text/html": [
       "<div>\n",
       "<style scoped>\n",
       "    .dataframe tbody tr th:only-of-type {\n",
       "        vertical-align: middle;\n",
       "    }\n",
       "\n",
       "    .dataframe tbody tr th {\n",
       "        vertical-align: top;\n",
       "    }\n",
       "\n",
       "    .dataframe thead th {\n",
       "        text-align: right;\n",
       "    }\n",
       "</style>\n",
       "<table border=\"1\" class=\"dataframe\">\n",
       "  <thead>\n",
       "    <tr style=\"text-align: right;\">\n",
       "      <th></th>\n",
       "      <th>label_name</th>\n",
       "      <th>count</th>\n",
       "    </tr>\n",
       "  </thead>\n",
       "  <tbody>\n",
       "    <tr>\n",
       "      <th>0</th>\n",
       "      <td>Data and Code Not Available</td>\n",
       "      <td>117</td>\n",
       "    </tr>\n",
       "    <tr>\n",
       "      <th>1</th>\n",
       "      <td>Data or Code Publicly Available</td>\n",
       "      <td>7</td>\n",
       "    </tr>\n",
       "  </tbody>\n",
       "</table>\n",
       "</div>"
      ],
      "text/plain": [
       "                        label_name  count\n",
       "0      Data and Code Not Available    117\n",
       "1  Data or Code Publicly Available      7"
      ]
     },
     "execution_count": 15,
     "metadata": {},
     "output_type": "execute_result"
    }
   ],
   "source": [
    "# file_name = \"labels_mssp_99_0-100.ods\"\n",
    "file_name = \"labels_energies_98_0-150.ods\"\n",
    "\n",
    "df = summarize_final_label_file(path_label_dir / file_name, n_articles=124)\n",
    "df"
   ]
  },
  {
   "cell_type": "markdown",
   "metadata": {},
   "source": [
    "# Scratch"
   ]
  },
  {
   "cell_type": "code",
   "execution_count": 29,
   "metadata": {},
   "outputs": [
    {
     "data": {
      "text/html": [
       "<div>\n",
       "<style scoped>\n",
       "    .dataframe tbody tr th:only-of-type {\n",
       "        vertical-align: middle;\n",
       "    }\n",
       "\n",
       "    .dataframe tbody tr th {\n",
       "        vertical-align: top;\n",
       "    }\n",
       "\n",
       "    .dataframe thead th {\n",
       "        text-align: right;\n",
       "    }\n",
       "</style>\n",
       "<table border=\"1\" class=\"dataframe\">\n",
       "  <thead>\n",
       "    <tr style=\"text-align: right;\">\n",
       "      <th></th>\n",
       "      <th>id</th>\n",
       "      <th>pattern</th>\n",
       "      <th>token_count</th>\n",
       "      <th>update_date</th>\n",
       "      <th>label</th>\n",
       "      <th>para</th>\n",
       "    </tr>\n",
       "  </thead>\n",
       "  <tbody>\n",
       "    <tr>\n",
       "      <th>0</th>\n",
       "      <td>10.1016_j.ymssp.2015.05.028</td>\n",
       "      <td>data</td>\n",
       "      <td>14</td>\n",
       "      <td>NaT</td>\n",
       "      <td>NaN</td>\n",
       "      <td>-T denotes the set of all measured data and f ...</td>\n",
       "    </tr>\n",
       "    <tr>\n",
       "      <th>1</th>\n",
       "      <td>10.1016_j.ymssp.2015.05.028</td>\n",
       "      <td>data</td>\n",
       "      <td>33</td>\n",
       "      <td>NaT</td>\n",
       "      <td>NaN</td>\n",
       "      <td>These new fx0; P0; Q ; Rg can be used to proce...</td>\n",
       "    </tr>\n",
       "    <tr>\n",
       "      <th>2</th>\n",
       "      <td>10.1016_j.ymssp.2015.05.028</td>\n",
       "      <td>data</td>\n",
       "      <td>59</td>\n",
       "      <td>NaT</td>\n",
       "      <td>NaN</td>\n",
       "      <td>An algorithm named Unscented Rauch–Tung–Strieb...</td>\n",
       "    </tr>\n",
       "    <tr>\n",
       "      <th>3</th>\n",
       "      <td>10.1016_j.ymssp.2015.05.028</td>\n",
       "      <td>data</td>\n",
       "      <td>88</td>\n",
       "      <td>NaT</td>\n",
       "      <td>NaN</td>\n",
       "      <td>In this paper, the study is limited to the ana...</td>\n",
       "    </tr>\n",
       "    <tr>\n",
       "      <th>4</th>\n",
       "      <td>10.1016_j.ymssp.2015.05.028</td>\n",
       "      <td>data</td>\n",
       "      <td>159</td>\n",
       "      <td>NaT</td>\n",
       "      <td>NaN</td>\n",
       "      <td>Finally, the influence of the M4 bolts torque ...</td>\n",
       "    </tr>\n",
       "  </tbody>\n",
       "</table>\n",
       "</div>"
      ],
      "text/plain": [
       "                            id pattern  token_count update_date  label  \\\n",
       "0  10.1016_j.ymssp.2015.05.028    data           14         NaT    NaN   \n",
       "1  10.1016_j.ymssp.2015.05.028    data           33         NaT    NaN   \n",
       "2  10.1016_j.ymssp.2015.05.028    data           59         NaT    NaN   \n",
       "3  10.1016_j.ymssp.2015.05.028    data           88         NaT    NaN   \n",
       "4  10.1016_j.ymssp.2015.05.028    data          159         NaT    NaN   \n",
       "\n",
       "                                                para  \n",
       "0  -T denotes the set of all measured data and f ...  \n",
       "1  These new fx0; P0; Q ; Rg can be used to proce...  \n",
       "2  An algorithm named Unscented Rauch–Tung–Strieb...  \n",
       "3  In this paper, the study is limited to the ana...  \n",
       "4  Finally, the influence of the M4 bolts torque ...  "
      ]
     },
     "execution_count": 29,
     "metadata": {},
     "output_type": "execute_result"
    }
   ],
   "source": [
    "file_name = \"labels_mssp_99_0-100.ods\"\n",
    "# file_name = \"labels_energies_98_0-150.ods\"\n",
    "\n",
    "if file_name.endswith(\".csv\"):\n",
    "    df = pd.read_csv(path_label_dir / file_name, parse_dates=['update_date'])\n",
    "else:\n",
    "    df = pd.read_excel(path_label_dir / file_name, parse_dates=['update_date'], \n",
    "                        engine='odf', names=[\"id\", \"pattern\", \"token_count\", \"update_date\", \"label\", \"para\"],)\n",
    "                        \n",
    "\n",
    "df.head()"
   ]
  },
  {
   "cell_type": "code",
   "execution_count": 30,
   "metadata": {},
   "outputs": [
    {
     "name": "stdout",
     "output_type": "stream",
     "text": [
      "Number of articles in df: 85\n"
     ]
    },
    {
     "data": {
      "text/html": [
       "<div>\n",
       "<style scoped>\n",
       "    .dataframe tbody tr th:only-of-type {\n",
       "        vertical-align: middle;\n",
       "    }\n",
       "\n",
       "    .dataframe tbody tr th {\n",
       "        vertical-align: top;\n",
       "    }\n",
       "\n",
       "    .dataframe thead th {\n",
       "        text-align: right;\n",
       "    }\n",
       "</style>\n",
       "<table border=\"1\" class=\"dataframe\">\n",
       "  <thead>\n",
       "    <tr style=\"text-align: right;\">\n",
       "      <th></th>\n",
       "      <th>id</th>\n",
       "      <th>label</th>\n",
       "    </tr>\n",
       "  </thead>\n",
       "  <tbody>\n",
       "    <tr>\n",
       "      <th>0</th>\n",
       "      <td>10.1016_j.ymssp.2015.05.028</td>\n",
       "      <td>0.0</td>\n",
       "    </tr>\n",
       "    <tr>\n",
       "      <th>1</th>\n",
       "      <td>10.1016_j.ymssp.2016.04.014</td>\n",
       "      <td>0.0</td>\n",
       "    </tr>\n",
       "    <tr>\n",
       "      <th>2</th>\n",
       "      <td>10.1016_j.ymssp.2016.04.028</td>\n",
       "      <td>1.0</td>\n",
       "    </tr>\n",
       "    <tr>\n",
       "      <th>3</th>\n",
       "      <td>10.1016_j.ymssp.2016.05.026</td>\n",
       "      <td>0.0</td>\n",
       "    </tr>\n",
       "    <tr>\n",
       "      <th>4</th>\n",
       "      <td>10.1016_j.ymssp.2016.07.049</td>\n",
       "      <td>0.0</td>\n",
       "    </tr>\n",
       "  </tbody>\n",
       "</table>\n",
       "</div>"
      ],
      "text/plain": [
       "                            id  label\n",
       "0  10.1016_j.ymssp.2015.05.028    0.0\n",
       "1  10.1016_j.ymssp.2016.04.014    0.0\n",
       "2  10.1016_j.ymssp.2016.04.028    1.0\n",
       "3  10.1016_j.ymssp.2016.05.026    0.0\n",
       "4  10.1016_j.ymssp.2016.07.049    0.0"
      ]
     },
     "execution_count": 30,
     "metadata": {},
     "output_type": "execute_result"
    }
   ],
   "source": [
    "# group id and aggregate by max label\n",
    "dfr = df.groupby([\"id\"]).agg({\"label\": \"max\"}).reset_index()\n",
    "\n",
    "# replace any NaN in \"label\" column with 0\n",
    "dfr.label.fillna(0, inplace=True)\n",
    "print(\"Number of articles in df:\", len(dfr))\n",
    "dfr.head()"
   ]
  },
  {
   "cell_type": "code",
   "execution_count": 31,
   "metadata": {},
   "outputs": [
    {
     "data": {
      "text/html": [
       "<div>\n",
       "<style scoped>\n",
       "    .dataframe tbody tr th:only-of-type {\n",
       "        vertical-align: middle;\n",
       "    }\n",
       "\n",
       "    .dataframe tbody tr th {\n",
       "        vertical-align: top;\n",
       "    }\n",
       "\n",
       "    .dataframe thead th {\n",
       "        text-align: right;\n",
       "    }\n",
       "</style>\n",
       "<table border=\"1\" class=\"dataframe\">\n",
       "  <thead>\n",
       "    <tr style=\"text-align: right;\">\n",
       "      <th></th>\n",
       "      <th>label</th>\n",
       "      <th>count</th>\n",
       "    </tr>\n",
       "  </thead>\n",
       "  <tbody>\n",
       "    <tr>\n",
       "      <th>0</th>\n",
       "      <td>0</td>\n",
       "      <td>92</td>\n",
       "    </tr>\n",
       "    <tr>\n",
       "      <th>1</th>\n",
       "      <td>1</td>\n",
       "      <td>7</td>\n",
       "    </tr>\n",
       "    <tr>\n",
       "      <th>2</th>\n",
       "      <td>3</td>\n",
       "      <td>1</td>\n",
       "    </tr>\n",
       "  </tbody>\n",
       "</table>\n",
       "</div>"
      ],
      "text/plain": [
       "   label  count\n",
       "0      0     92\n",
       "1      1      7\n",
       "2      3      1"
      ]
     },
     "execution_count": 31,
     "metadata": {},
     "output_type": "execute_result"
    }
   ],
   "source": [
    "# the number of articles may have been more than what is contained in the file (because no keywords may have been found)\n",
    "n_articles = 100\n",
    "n_articles_df = len(dfr)\n",
    "\n",
    "df_label_count = dfr.groupby('label').count().reset_index().astype(int)\n",
    "df_label_count = df_label_count.iloc[:,:2]\n",
    "df_label_count.columns = ['label', 'count']\n",
    "\n",
    "# the difference between n_articles and n_articles_df is the number of articles that had no keywords in the search\n",
    "df_label_count.loc[0, 'count'] += n_articles - n_articles_df\n",
    "df_label_count"
   ]
  },
  {
   "cell_type": "code",
   "execution_count": 32,
   "metadata": {},
   "outputs": [
    {
     "data": {
      "text/html": [
       "<div>\n",
       "<style scoped>\n",
       "    .dataframe tbody tr th:only-of-type {\n",
       "        vertical-align: middle;\n",
       "    }\n",
       "\n",
       "    .dataframe tbody tr th {\n",
       "        vertical-align: top;\n",
       "    }\n",
       "\n",
       "    .dataframe thead th {\n",
       "        text-align: right;\n",
       "    }\n",
       "</style>\n",
       "<table border=\"1\" class=\"dataframe\">\n",
       "  <thead>\n",
       "    <tr style=\"text-align: right;\">\n",
       "      <th></th>\n",
       "      <th>label_name</th>\n",
       "      <th>count</th>\n",
       "      <th>percentage</th>\n",
       "    </tr>\n",
       "  </thead>\n",
       "  <tbody>\n",
       "    <tr>\n",
       "      <th>0</th>\n",
       "      <td>Data and Code Not Available</td>\n",
       "      <td>92</td>\n",
       "      <td>92.0</td>\n",
       "    </tr>\n",
       "    <tr>\n",
       "      <th>1</th>\n",
       "      <td>Data or Code Publicly Available</td>\n",
       "      <td>8</td>\n",
       "      <td>8.0</td>\n",
       "    </tr>\n",
       "  </tbody>\n",
       "</table>\n",
       "</div>"
      ],
      "text/plain": [
       "                        label_name  count  percentage\n",
       "0      Data and Code Not Available     92        92.0\n",
       "1  Data or Code Publicly Available      8         8.0"
      ]
     },
     "execution_count": 32,
     "metadata": {},
     "output_type": "execute_result"
    }
   ],
   "source": [
    "# create new column called \"label_name\" where the value is 0 if the label is 0, 1 if the label is greater than 0\n",
    "df_label_count['label_name'] = df_label_count.label.apply(\n",
    "    lambda x: \"Data and Code Not Available\" if x == 0 else \"Data or Code Publicly Available\"\n",
    "    )\n",
    "df_label_count = df_label_count.groupby([\"label_name\"]).agg({\"count\": \"sum\"}).reset_index()\n",
    "\n",
    "# add percentage column of total\n",
    "df_label_count['percentage'] = df_label_count['count'] / df_label_count['count'].sum() * 100\n",
    "df_label_count"
   ]
  },
  {
   "cell_type": "code",
   "execution_count": null,
   "metadata": {},
   "outputs": [],
   "source": []
  }
 ],
 "metadata": {
  "interpreter": {
   "hash": "17e082919eb97a8b1648db68459a0548143f50884a45122adabc4767e3d2dece"
  },
  "kernelspec": {
   "display_name": "Python 3.8.13 ('arxiv')",
   "language": "python",
   "name": "python3"
  },
  "language_info": {
   "codemirror_mode": {
    "name": "ipython",
    "version": 3
   },
   "file_extension": ".py",
   "mimetype": "text/x-python",
   "name": "python",
   "nbconvert_exporter": "python",
   "pygments_lexer": "ipython3",
   "version": "3.8.13"
  },
  "orig_nbformat": 4
 },
 "nbformat": 4,
 "nbformat_minor": 2
}
