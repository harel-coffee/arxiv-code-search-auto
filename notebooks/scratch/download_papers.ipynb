{
 "cells": [
  {
   "cell_type": "code",
   "execution_count": 22,
   "metadata": {},
   "outputs": [],
   "source": [
    "import pandas as pd\n",
    "import numpy as np\n",
    "from pathlib import Path\n",
    "import matplotlib.pyplot as plt\n",
    "import os\n",
    "from time import sleep\n",
    "\n",
    "from urllib.request import urlretrieve\n",
    "import random\n",
    "from src.data.utils import load_metadata_csv"
   ]
  },
  {
   "cell_type": "code",
   "execution_count": 23,
   "metadata": {},
   "outputs": [
    {
     "name": "stdout",
     "output_type": "stream",
     "text": [
      "project_dir: /home/tim/Documents/arxiv-code-search\n"
     ]
    }
   ],
   "source": [
    "project_dir = Path.cwd().parent.parent\n",
    "print(\"project_dir:\", project_dir)\n",
    "\n",
    "index_file_path = project_dir / \"data/processed/labels/index_files\" / \"index_of_articles_for_labels_1.csv\""
   ]
  },
  {
   "cell_type": "code",
   "execution_count": 24,
   "metadata": {},
   "outputs": [
    {
     "data": {
      "text/html": [
       "<div>\n",
       "<style scoped>\n",
       "    .dataframe tbody tr th:only-of-type {\n",
       "        vertical-align: middle;\n",
       "    }\n",
       "\n",
       "    .dataframe tbody tr th {\n",
       "        vertical-align: top;\n",
       "    }\n",
       "\n",
       "    .dataframe thead th {\n",
       "        text-align: right;\n",
       "    }\n",
       "</style>\n",
       "<table border=\"1\" class=\"dataframe\">\n",
       "  <thead>\n",
       "    <tr style=\"text-align: right;\">\n",
       "      <th></th>\n",
       "      <th>id</th>\n",
       "      <th>submitter</th>\n",
       "      <th>authors</th>\n",
       "      <th>title</th>\n",
       "      <th>comments</th>\n",
       "      <th>journal-ref</th>\n",
       "      <th>doi</th>\n",
       "      <th>report-no</th>\n",
       "      <th>categories</th>\n",
       "      <th>license</th>\n",
       "      <th>abstract</th>\n",
       "      <th>versions</th>\n",
       "      <th>update_date</th>\n",
       "      <th>authors_parsed</th>\n",
       "    </tr>\n",
       "  </thead>\n",
       "  <tbody>\n",
       "    <tr>\n",
       "      <th>0</th>\n",
       "      <td>2203.07278</td>\n",
       "      <td>Sergio Munoz</td>\n",
       "      <td>J. Gonz\\'alez-Carbajal, Pedro Urda, Sergio Mu\\...</td>\n",
       "      <td>Estimation of the trajectory and attitude of r...</td>\n",
       "      <td>NaN</td>\n",
       "      <td>NaN</td>\n",
       "      <td>NaN</td>\n",
       "      <td>NaN</td>\n",
       "      <td>cs.CE</td>\n",
       "      <td>http://creativecommons.org/licenses/by/4.0/</td>\n",
       "      <td>This paper describes a novel method for the ...</td>\n",
       "      <td>[{'version': 'v1', 'created': 'Mon, 14 Mar 202...</td>\n",
       "      <td>2022-03-15</td>\n",
       "      <td>[[González-Carbajal, J., ], [Urda, Pedro, ], [...</td>\n",
       "    </tr>\n",
       "    <tr>\n",
       "      <th>1</th>\n",
       "      <td>2001.06058</td>\n",
       "      <td>Chen Cai</td>\n",
       "      <td>Chen Cai, Yusu Wang</td>\n",
       "      <td>Understanding the Power of Persistence Pairing...</td>\n",
       "      <td>20 pages, 6 graphs</td>\n",
       "      <td>NaN</td>\n",
       "      <td>NaN</td>\n",
       "      <td>NaN</td>\n",
       "      <td>cs.LG cs.CG stat.ML</td>\n",
       "      <td>http://creativecommons.org/licenses/by/4.0/</td>\n",
       "      <td>Recently many efforts have been made to inco...</td>\n",
       "      <td>[{'version': 'v1', 'created': 'Thu, 16 Jan 202...</td>\n",
       "      <td>2020-01-20</td>\n",
       "      <td>[[Cai, Chen, ], [Wang, Yusu, ]]</td>\n",
       "    </tr>\n",
       "  </tbody>\n",
       "</table>\n",
       "</div>"
      ],
      "text/plain": [
       "           id     submitter  \\\n",
       "0  2203.07278  Sergio Munoz   \n",
       "1  2001.06058      Chen Cai   \n",
       "\n",
       "                                             authors  \\\n",
       "0  J. Gonz\\'alez-Carbajal, Pedro Urda, Sergio Mu\\...   \n",
       "1                                Chen Cai, Yusu Wang   \n",
       "\n",
       "                                               title            comments  \\\n",
       "0  Estimation of the trajectory and attitude of r...                 NaN   \n",
       "1  Understanding the Power of Persistence Pairing...  20 pages, 6 graphs   \n",
       "\n",
       "  journal-ref  doi report-no           categories  \\\n",
       "0         NaN  NaN       NaN                cs.CE   \n",
       "1         NaN  NaN       NaN  cs.LG cs.CG stat.ML   \n",
       "\n",
       "                                       license  \\\n",
       "0  http://creativecommons.org/licenses/by/4.0/   \n",
       "1  http://creativecommons.org/licenses/by/4.0/   \n",
       "\n",
       "                                            abstract  \\\n",
       "0    This paper describes a novel method for the ...   \n",
       "1    Recently many efforts have been made to inco...   \n",
       "\n",
       "                                            versions update_date  \\\n",
       "0  [{'version': 'v1', 'created': 'Mon, 14 Mar 202...  2022-03-15   \n",
       "1  [{'version': 'v1', 'created': 'Thu, 16 Jan 202...  2020-01-20   \n",
       "\n",
       "                                      authors_parsed  \n",
       "0  [[González-Carbajal, J., ], [Urda, Pedro, ], [...  \n",
       "1                    [[Cai, Chen, ], [Wang, Yusu, ]]  "
      ]
     },
     "execution_count": 24,
     "metadata": {},
     "output_type": "execute_result"
    }
   ],
   "source": [
    "df = load_metadata_csv(index_file_path)\n",
    "df[:2]"
   ]
  },
  {
   "cell_type": "code",
   "execution_count": 11,
   "metadata": {},
   "outputs": [
    {
     "data": {
      "text/plain": [
       "'2203.07278'"
      ]
     },
     "execution_count": 11,
     "metadata": {},
     "output_type": "execute_result"
    }
   ],
   "source": [
    "id = df['id'][0]\n",
    "id"
   ]
  },
  {
   "cell_type": "code",
   "execution_count": 15,
   "metadata": {},
   "outputs": [
    {
     "data": {
      "text/plain": [
       "('2203.07278.pdf', <http.client.HTTPMessage at 0x7fe4e1eded60>)"
      ]
     },
     "execution_count": 15,
     "metadata": {},
     "output_type": "execute_result"
    }
   ],
   "source": [
    "id = df['id'][0]\n",
    "\n",
    "url = f\"https://arxiv.org/pdf/{id}.pdf\"\n",
    "\n",
    "urlretrieve(url, f\"{id}.pdf\")"
   ]
  },
  {
   "cell_type": "code",
   "execution_count": null,
   "metadata": {},
   "outputs": [],
   "source": [
    "sleep_time = random.randint(3, 45)\n",
    "print('sleep time: ', sleep_time)\n",
    "sleep(sleep_time)"
   ]
  },
  {
   "cell_type": "code",
   "execution_count": 25,
   "metadata": {},
   "outputs": [],
   "source": [
    "def download_articles_from_index(index_file_path, save_dir):\n",
    "    \"\"\"\n",
    "    Download n_articles from index_file_path.\n",
    "    \"\"\"\n",
    "\n",
    "    save_dir.mkdir(parents=True, exist_ok=True)\n",
    "\n",
    "    df = load_metadata_csv(index_file_path)\n",
    "\n",
    "    for i, row in df.iterrows():\n",
    "        id = row['id']\n",
    "        title = row['title']\n",
    "        print(title)\n",
    "        url = f\"https://arxiv.org/pdf/{id}.pdf\"\n",
    "        urlretrieve(url, save_dir / f\"{id}.pdf\")\n",
    "        sleep_time = 3\n",
    "        # print('sleep time: ', sleep_time)\n",
    "        sleep(sleep_time)"
   ]
  },
  {
   "cell_type": "code",
   "execution_count": 26,
   "metadata": {},
   "outputs": [
    {
     "name": "stdout",
     "output_type": "stream",
     "text": [
      "Estimation of the trajectory and attitude of railway vehicles using\n",
      "  inertial sensors with application to track geometry measurement\n",
      "Understanding the Power of Persistence Pairing via Permutation Test\n",
      "A Multi-Perspective Study of Internet Performance during the COVID-19\n",
      "  Outbreak\n",
      "Local Wealth Redistribution Promotes Cooperation in Multiagent Systems\n",
      "SILT: Self-supervised Lighting Transfer Using Implicit Image\n",
      "  Decomposition\n",
      "Learning to recognize touch gestures: recurrent vs. convolutional\n",
      "  features and dynamic sampling\n",
      "Key Considerations for the Responsible Development and Fielding of\n",
      "  Artificial Intelligence\n",
      "A Rate-Distortion Framework for Explaining Black-box Model Decisions\n",
      "Anonymous Blockchain-based System for Consortium\n",
      "Consensus-Based Distributed Estimation in the Presence of Heterogeneous,\n",
      "  Time-Invariant Delays\n",
      "Discovering long term dependencies in noisy time series data using deep\n",
      "  learning\n",
      "Movement Tracks for the Automatic Detection of Fish Behavior in Videos\n",
      "Open data to evaluate academic researchers: an experiment with the\n",
      "  Italian Scientific Habilitation\n",
      "Geometrically Higher Order Unfitted Space-Time Methods for PDEs on\n",
      "  Moving Domains\n",
      "The Edit Distance to $k$-Subsequence Universality\n",
      "An Ensemble Classification Algorithm Based on Information Entropy for\n",
      "  Data Streams\n",
      "Comparing Heuristics, Constraint Optimization, and Reinforcement\n",
      "  Learning for an Industrial 2D Packing Problem\n"
     ]
    },
    {
     "ename": "KeyboardInterrupt",
     "evalue": "",
     "output_type": "error",
     "traceback": [
      "\u001b[0;31m---------------------------------------------------------------------------\u001b[0m",
      "\u001b[0;31mKeyboardInterrupt\u001b[0m                         Traceback (most recent call last)",
      "\u001b[1;32m/home/tim/Documents/arxiv-code-search/notebooks/scratch/download_papers.ipynb Cell 8'\u001b[0m in \u001b[0;36m<cell line: 2>\u001b[0;34m()\u001b[0m\n\u001b[1;32m      <a href='vscode-notebook-cell:/home/tim/Documents/arxiv-code-search/notebooks/scratch/download_papers.ipynb#ch0000007?line=0'>1</a>\u001b[0m save_dir \u001b[39m=\u001b[39m project_dir \u001b[39m/\u001b[39m \u001b[39m\"\u001b[39m\u001b[39mdata/raw/pdfs\u001b[39m\u001b[39m\"\u001b[39m\n\u001b[0;32m----> <a href='vscode-notebook-cell:/home/tim/Documents/arxiv-code-search/notebooks/scratch/download_papers.ipynb#ch0000007?line=1'>2</a>\u001b[0m download_articles_from_index(index_file_path, save_dir)\n",
      "\u001b[1;32m/home/tim/Documents/arxiv-code-search/notebooks/scratch/download_papers.ipynb Cell 7'\u001b[0m in \u001b[0;36mdownload_articles_from_index\u001b[0;34m(index_file_path, save_dir)\u001b[0m\n\u001b[1;32m     <a href='vscode-notebook-cell:/home/tim/Documents/arxiv-code-search/notebooks/scratch/download_papers.ipynb#ch0000006?line=12'>13</a>\u001b[0m \u001b[39mprint\u001b[39m(title)\n\u001b[1;32m     <a href='vscode-notebook-cell:/home/tim/Documents/arxiv-code-search/notebooks/scratch/download_papers.ipynb#ch0000006?line=13'>14</a>\u001b[0m url \u001b[39m=\u001b[39m \u001b[39mf\u001b[39m\u001b[39m\"\u001b[39m\u001b[39mhttps://arxiv.org/pdf/\u001b[39m\u001b[39m{\u001b[39;00m\u001b[39mid\u001b[39m\u001b[39m}\u001b[39;00m\u001b[39m.pdf\u001b[39m\u001b[39m\"\u001b[39m\n\u001b[0;32m---> <a href='vscode-notebook-cell:/home/tim/Documents/arxiv-code-search/notebooks/scratch/download_papers.ipynb#ch0000006?line=14'>15</a>\u001b[0m urlretrieve(url, save_dir \u001b[39m/\u001b[39;49m \u001b[39mf\u001b[39;49m\u001b[39m\"\u001b[39;49m\u001b[39m{\u001b[39;49;00m\u001b[39mid\u001b[39;49m\u001b[39m}\u001b[39;49;00m\u001b[39m.pdf\u001b[39;49m\u001b[39m\"\u001b[39;49m)\n\u001b[1;32m     <a href='vscode-notebook-cell:/home/tim/Documents/arxiv-code-search/notebooks/scratch/download_papers.ipynb#ch0000006?line=15'>16</a>\u001b[0m sleep_time \u001b[39m=\u001b[39m \u001b[39m3\u001b[39m\n\u001b[1;32m     <a href='vscode-notebook-cell:/home/tim/Documents/arxiv-code-search/notebooks/scratch/download_papers.ipynb#ch0000006?line=16'>17</a>\u001b[0m \u001b[39m# print('sleep time: ', sleep_time)\u001b[39;00m\n",
      "File \u001b[0;32m~/miniconda3/envs/arxiv/lib/python3.8/urllib/request.py:276\u001b[0m, in \u001b[0;36murlretrieve\u001b[0;34m(url, filename, reporthook, data)\u001b[0m\n\u001b[1;32m    <a href='file:///home/tim/miniconda3/envs/arxiv/lib/python3.8/urllib/request.py?line=272'>273</a>\u001b[0m     reporthook(blocknum, bs, size)\n\u001b[1;32m    <a href='file:///home/tim/miniconda3/envs/arxiv/lib/python3.8/urllib/request.py?line=274'>275</a>\u001b[0m \u001b[39mwhile\u001b[39;00m \u001b[39mTrue\u001b[39;00m:\n\u001b[0;32m--> <a href='file:///home/tim/miniconda3/envs/arxiv/lib/python3.8/urllib/request.py?line=275'>276</a>\u001b[0m     block \u001b[39m=\u001b[39m fp\u001b[39m.\u001b[39;49mread(bs)\n\u001b[1;32m    <a href='file:///home/tim/miniconda3/envs/arxiv/lib/python3.8/urllib/request.py?line=276'>277</a>\u001b[0m     \u001b[39mif\u001b[39;00m \u001b[39mnot\u001b[39;00m block:\n\u001b[1;32m    <a href='file:///home/tim/miniconda3/envs/arxiv/lib/python3.8/urllib/request.py?line=277'>278</a>\u001b[0m         \u001b[39mbreak\u001b[39;00m\n",
      "File \u001b[0;32m~/miniconda3/envs/arxiv/lib/python3.8/http/client.py:459\u001b[0m, in \u001b[0;36mHTTPResponse.read\u001b[0;34m(self, amt)\u001b[0m\n\u001b[1;32m    <a href='file:///home/tim/miniconda3/envs/arxiv/lib/python3.8/http/client.py?line=455'>456</a>\u001b[0m \u001b[39mif\u001b[39;00m amt \u001b[39mis\u001b[39;00m \u001b[39mnot\u001b[39;00m \u001b[39mNone\u001b[39;00m:\n\u001b[1;32m    <a href='file:///home/tim/miniconda3/envs/arxiv/lib/python3.8/http/client.py?line=456'>457</a>\u001b[0m     \u001b[39m# Amount is given, implement using readinto\u001b[39;00m\n\u001b[1;32m    <a href='file:///home/tim/miniconda3/envs/arxiv/lib/python3.8/http/client.py?line=457'>458</a>\u001b[0m     b \u001b[39m=\u001b[39m \u001b[39mbytearray\u001b[39m(amt)\n\u001b[0;32m--> <a href='file:///home/tim/miniconda3/envs/arxiv/lib/python3.8/http/client.py?line=458'>459</a>\u001b[0m     n \u001b[39m=\u001b[39m \u001b[39mself\u001b[39;49m\u001b[39m.\u001b[39;49mreadinto(b)\n\u001b[1;32m    <a href='file:///home/tim/miniconda3/envs/arxiv/lib/python3.8/http/client.py?line=459'>460</a>\u001b[0m     \u001b[39mreturn\u001b[39;00m \u001b[39mmemoryview\u001b[39m(b)[:n]\u001b[39m.\u001b[39mtobytes()\n\u001b[1;32m    <a href='file:///home/tim/miniconda3/envs/arxiv/lib/python3.8/http/client.py?line=460'>461</a>\u001b[0m \u001b[39melse\u001b[39;00m:\n\u001b[1;32m    <a href='file:///home/tim/miniconda3/envs/arxiv/lib/python3.8/http/client.py?line=461'>462</a>\u001b[0m     \u001b[39m# Amount is not given (unbounded read) so we must check self.length\u001b[39;00m\n\u001b[1;32m    <a href='file:///home/tim/miniconda3/envs/arxiv/lib/python3.8/http/client.py?line=462'>463</a>\u001b[0m     \u001b[39m# and self.chunked\u001b[39;00m\n",
      "File \u001b[0;32m~/miniconda3/envs/arxiv/lib/python3.8/http/client.py:503\u001b[0m, in \u001b[0;36mHTTPResponse.readinto\u001b[0;34m(self, b)\u001b[0m\n\u001b[1;32m    <a href='file:///home/tim/miniconda3/envs/arxiv/lib/python3.8/http/client.py?line=497'>498</a>\u001b[0m         b \u001b[39m=\u001b[39m \u001b[39mmemoryview\u001b[39m(b)[\u001b[39m0\u001b[39m:\u001b[39mself\u001b[39m\u001b[39m.\u001b[39mlength]\n\u001b[1;32m    <a href='file:///home/tim/miniconda3/envs/arxiv/lib/python3.8/http/client.py?line=499'>500</a>\u001b[0m \u001b[39m# we do not use _safe_read() here because this may be a .will_close\u001b[39;00m\n\u001b[1;32m    <a href='file:///home/tim/miniconda3/envs/arxiv/lib/python3.8/http/client.py?line=500'>501</a>\u001b[0m \u001b[39m# connection, and the user is reading more bytes than will be provided\u001b[39;00m\n\u001b[1;32m    <a href='file:///home/tim/miniconda3/envs/arxiv/lib/python3.8/http/client.py?line=501'>502</a>\u001b[0m \u001b[39m# (for example, reading in 1k chunks)\u001b[39;00m\n\u001b[0;32m--> <a href='file:///home/tim/miniconda3/envs/arxiv/lib/python3.8/http/client.py?line=502'>503</a>\u001b[0m n \u001b[39m=\u001b[39m \u001b[39mself\u001b[39;49m\u001b[39m.\u001b[39;49mfp\u001b[39m.\u001b[39;49mreadinto(b)\n\u001b[1;32m    <a href='file:///home/tim/miniconda3/envs/arxiv/lib/python3.8/http/client.py?line=503'>504</a>\u001b[0m \u001b[39mif\u001b[39;00m \u001b[39mnot\u001b[39;00m n \u001b[39mand\u001b[39;00m b:\n\u001b[1;32m    <a href='file:///home/tim/miniconda3/envs/arxiv/lib/python3.8/http/client.py?line=504'>505</a>\u001b[0m     \u001b[39m# Ideally, we would raise IncompleteRead if the content-length\u001b[39;00m\n\u001b[1;32m    <a href='file:///home/tim/miniconda3/envs/arxiv/lib/python3.8/http/client.py?line=505'>506</a>\u001b[0m     \u001b[39m# wasn't satisfied, but it might break compatibility.\u001b[39;00m\n\u001b[1;32m    <a href='file:///home/tim/miniconda3/envs/arxiv/lib/python3.8/http/client.py?line=506'>507</a>\u001b[0m     \u001b[39mself\u001b[39m\u001b[39m.\u001b[39m_close_conn()\n",
      "File \u001b[0;32m~/miniconda3/envs/arxiv/lib/python3.8/socket.py:669\u001b[0m, in \u001b[0;36mSocketIO.readinto\u001b[0;34m(self, b)\u001b[0m\n\u001b[1;32m    <a href='file:///home/tim/miniconda3/envs/arxiv/lib/python3.8/socket.py?line=666'>667</a>\u001b[0m \u001b[39mwhile\u001b[39;00m \u001b[39mTrue\u001b[39;00m:\n\u001b[1;32m    <a href='file:///home/tim/miniconda3/envs/arxiv/lib/python3.8/socket.py?line=667'>668</a>\u001b[0m     \u001b[39mtry\u001b[39;00m:\n\u001b[0;32m--> <a href='file:///home/tim/miniconda3/envs/arxiv/lib/python3.8/socket.py?line=668'>669</a>\u001b[0m         \u001b[39mreturn\u001b[39;00m \u001b[39mself\u001b[39;49m\u001b[39m.\u001b[39;49m_sock\u001b[39m.\u001b[39;49mrecv_into(b)\n\u001b[1;32m    <a href='file:///home/tim/miniconda3/envs/arxiv/lib/python3.8/socket.py?line=669'>670</a>\u001b[0m     \u001b[39mexcept\u001b[39;00m timeout:\n\u001b[1;32m    <a href='file:///home/tim/miniconda3/envs/arxiv/lib/python3.8/socket.py?line=670'>671</a>\u001b[0m         \u001b[39mself\u001b[39m\u001b[39m.\u001b[39m_timeout_occurred \u001b[39m=\u001b[39m \u001b[39mTrue\u001b[39;00m\n",
      "File \u001b[0;32m~/miniconda3/envs/arxiv/lib/python3.8/ssl.py:1241\u001b[0m, in \u001b[0;36mSSLSocket.recv_into\u001b[0;34m(self, buffer, nbytes, flags)\u001b[0m\n\u001b[1;32m   <a href='file:///home/tim/miniconda3/envs/arxiv/lib/python3.8/ssl.py?line=1236'>1237</a>\u001b[0m     \u001b[39mif\u001b[39;00m flags \u001b[39m!=\u001b[39m \u001b[39m0\u001b[39m:\n\u001b[1;32m   <a href='file:///home/tim/miniconda3/envs/arxiv/lib/python3.8/ssl.py?line=1237'>1238</a>\u001b[0m         \u001b[39mraise\u001b[39;00m \u001b[39mValueError\u001b[39;00m(\n\u001b[1;32m   <a href='file:///home/tim/miniconda3/envs/arxiv/lib/python3.8/ssl.py?line=1238'>1239</a>\u001b[0m           \u001b[39m\"\u001b[39m\u001b[39mnon-zero flags not allowed in calls to recv_into() on \u001b[39m\u001b[39m%s\u001b[39;00m\u001b[39m\"\u001b[39m \u001b[39m%\u001b[39m\n\u001b[1;32m   <a href='file:///home/tim/miniconda3/envs/arxiv/lib/python3.8/ssl.py?line=1239'>1240</a>\u001b[0m           \u001b[39mself\u001b[39m\u001b[39m.\u001b[39m\u001b[39m__class__\u001b[39m)\n\u001b[0;32m-> <a href='file:///home/tim/miniconda3/envs/arxiv/lib/python3.8/ssl.py?line=1240'>1241</a>\u001b[0m     \u001b[39mreturn\u001b[39;00m \u001b[39mself\u001b[39;49m\u001b[39m.\u001b[39;49mread(nbytes, buffer)\n\u001b[1;32m   <a href='file:///home/tim/miniconda3/envs/arxiv/lib/python3.8/ssl.py?line=1241'>1242</a>\u001b[0m \u001b[39melse\u001b[39;00m:\n\u001b[1;32m   <a href='file:///home/tim/miniconda3/envs/arxiv/lib/python3.8/ssl.py?line=1242'>1243</a>\u001b[0m     \u001b[39mreturn\u001b[39;00m \u001b[39msuper\u001b[39m()\u001b[39m.\u001b[39mrecv_into(buffer, nbytes, flags)\n",
      "File \u001b[0;32m~/miniconda3/envs/arxiv/lib/python3.8/ssl.py:1099\u001b[0m, in \u001b[0;36mSSLSocket.read\u001b[0;34m(self, len, buffer)\u001b[0m\n\u001b[1;32m   <a href='file:///home/tim/miniconda3/envs/arxiv/lib/python3.8/ssl.py?line=1096'>1097</a>\u001b[0m \u001b[39mtry\u001b[39;00m:\n\u001b[1;32m   <a href='file:///home/tim/miniconda3/envs/arxiv/lib/python3.8/ssl.py?line=1097'>1098</a>\u001b[0m     \u001b[39mif\u001b[39;00m buffer \u001b[39mis\u001b[39;00m \u001b[39mnot\u001b[39;00m \u001b[39mNone\u001b[39;00m:\n\u001b[0;32m-> <a href='file:///home/tim/miniconda3/envs/arxiv/lib/python3.8/ssl.py?line=1098'>1099</a>\u001b[0m         \u001b[39mreturn\u001b[39;00m \u001b[39mself\u001b[39;49m\u001b[39m.\u001b[39;49m_sslobj\u001b[39m.\u001b[39;49mread(\u001b[39mlen\u001b[39;49m, buffer)\n\u001b[1;32m   <a href='file:///home/tim/miniconda3/envs/arxiv/lib/python3.8/ssl.py?line=1099'>1100</a>\u001b[0m     \u001b[39melse\u001b[39;00m:\n\u001b[1;32m   <a href='file:///home/tim/miniconda3/envs/arxiv/lib/python3.8/ssl.py?line=1100'>1101</a>\u001b[0m         \u001b[39mreturn\u001b[39;00m \u001b[39mself\u001b[39m\u001b[39m.\u001b[39m_sslobj\u001b[39m.\u001b[39mread(\u001b[39mlen\u001b[39m)\n",
      "\u001b[0;31mKeyboardInterrupt\u001b[0m: "
     ]
    }
   ],
   "source": [
    "save_dir = project_dir / \"data/raw/pdfs\"\n",
    "download_articles_from_index(index_file_path, save_dir)"
   ]
  },
  {
   "cell_type": "code",
   "execution_count": null,
   "metadata": {},
   "outputs": [],
   "source": []
  }
 ],
 "metadata": {
  "interpreter": {
   "hash": "17e082919eb97a8b1648db68459a0548143f50884a45122adabc4767e3d2dece"
  },
  "kernelspec": {
   "display_name": "Python 3.8.13 ('arxiv')",
   "language": "python",
   "name": "python3"
  },
  "language_info": {
   "codemirror_mode": {
    "name": "ipython",
    "version": 3
   },
   "file_extension": ".py",
   "mimetype": "text/x-python",
   "name": "python",
   "nbconvert_exporter": "python",
   "pygments_lexer": "ipython3",
   "version": "3.8.13"
  },
  "orig_nbformat": 4
 },
 "nbformat": 4,
 "nbformat_minor": 2
}
