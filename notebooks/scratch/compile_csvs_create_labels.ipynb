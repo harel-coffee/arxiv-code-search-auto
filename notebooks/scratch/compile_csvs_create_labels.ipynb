{
 "cells": [
  {
   "cell_type": "code",
   "execution_count": 1,
   "metadata": {},
   "outputs": [],
   "source": [
    "import pandas as pd\n",
    "import numpy as np\n",
    "from pathlib import Path"
   ]
  },
  {
   "cell_type": "code",
   "execution_count": 2,
   "metadata": {},
   "outputs": [
    {
     "data": {
      "text/plain": [
       "PosixPath('/home/tim/Documents/arxiv-code-search/data')"
      ]
     },
     "execution_count": 2,
     "metadata": {},
     "output_type": "execute_result"
    }
   ],
   "source": [
    "project_dir = Path.cwd().parent.parent\n",
    "data_dir = project_dir / 'data'\n",
    "data_dir"
   ]
  },
  {
   "cell_type": "code",
   "execution_count": 15,
   "metadata": {},
   "outputs": [
    {
     "data": {
      "text/html": [
       "<div>\n",
       "<style scoped>\n",
       "    .dataframe tbody tr th:only-of-type {\n",
       "        vertical-align: middle;\n",
       "    }\n",
       "\n",
       "    .dataframe tbody tr th {\n",
       "        vertical-align: top;\n",
       "    }\n",
       "\n",
       "    .dataframe thead th {\n",
       "        text-align: right;\n",
       "    }\n",
       "</style>\n",
       "<table border=\"1\" class=\"dataframe\">\n",
       "  <thead>\n",
       "    <tr style=\"text-align: right;\">\n",
       "      <th></th>\n",
       "      <th>id</th>\n",
       "      <th>pattern</th>\n",
       "      <th>token_count</th>\n",
       "      <th>update_date</th>\n",
       "      <th>label</th>\n",
       "      <th>para</th>\n",
       "    </tr>\n",
       "  </thead>\n",
       "  <tbody>\n",
       "    <tr>\n",
       "      <th>0</th>\n",
       "      <td>1401.8008</td>\n",
       "      <td>code, package, code available, github, code pa...</td>\n",
       "      <td>56</td>\n",
       "      <td>2022-04-27</td>\n",
       "      <td>2.0</td>\n",
       "      <td>So we can solve the dual comparison problem (1...</td>\n",
       "    </tr>\n",
       "    <tr>\n",
       "      <th>1</th>\n",
       "      <td>1401.8008</td>\n",
       "      <td>data</td>\n",
       "      <td>103</td>\n",
       "      <td>NaT</td>\n",
       "      <td>NaN</td>\n",
       "      <td>Comparison data also results when considering ...</td>\n",
       "    </tr>\n",
       "    <tr>\n",
       "      <th>2</th>\n",
       "      <td>1401.8008</td>\n",
       "      <td>data</td>\n",
       "      <td>11</td>\n",
       "      <td>NaT</td>\n",
       "      <td>NaN</td>\n",
       "      <td>4. Comparison to SVMrank in sushi and simulate...</td>\n",
       "    </tr>\n",
       "    <tr>\n",
       "      <th>3</th>\n",
       "      <td>1401.8008</td>\n",
       "      <td>data</td>\n",
       "      <td>112</td>\n",
       "      <td>NaT</td>\n",
       "      <td>NaN</td>\n",
       "      <td>Fig. 6. Test AUC for each model used after tra...</td>\n",
       "    </tr>\n",
       "    <tr>\n",
       "      <th>4</th>\n",
       "      <td>1401.8008</td>\n",
       "      <td>data</td>\n",
       "      <td>113</td>\n",
       "      <td>NaT</td>\n",
       "      <td>NaN</td>\n",
       "      <td>The goal of learning to compare is to accurate...</td>\n",
       "    </tr>\n",
       "  </tbody>\n",
       "</table>\n",
       "</div>"
      ],
      "text/plain": [
       "          id                                            pattern  token_count  \\\n",
       "0  1401.8008  code, package, code available, github, code pa...           56   \n",
       "1  1401.8008                                               data          103   \n",
       "2  1401.8008                                               data           11   \n",
       "3  1401.8008                                               data          112   \n",
       "4  1401.8008                                               data          113   \n",
       "\n",
       "  update_date  label                                               para  \n",
       "0  2022-04-27    2.0  So we can solve the dual comparison problem (1...  \n",
       "1         NaT    NaN  Comparison data also results when considering ...  \n",
       "2         NaT    NaN  4. Comparison to SVMrank in sushi and simulate...  \n",
       "3         NaT    NaN  Fig. 6. Test AUC for each model used after tra...  \n",
       "4         NaT    NaN  The goal of learning to compare is to accurate...  "
      ]
     },
     "execution_count": 15,
     "metadata": {},
     "output_type": "execute_result"
    }
   ],
   "source": [
    "df = pd.read_excel(data_dir / 'interim' / 'labels_1.ods', parse_dates=['update_date'], \n",
    "                    engine='odf', names=[\"id\", \"pattern\", \"token_count\", \"update_date\", \"label\", \"para\"],)\n",
    "df.head()"
   ]
  },
  {
   "cell_type": "code",
   "execution_count": 16,
   "metadata": {},
   "outputs": [
    {
     "data": {
      "text/html": [
       "<div>\n",
       "<style scoped>\n",
       "    .dataframe tbody tr th:only-of-type {\n",
       "        vertical-align: middle;\n",
       "    }\n",
       "\n",
       "    .dataframe tbody tr th {\n",
       "        vertical-align: top;\n",
       "    }\n",
       "\n",
       "    .dataframe thead th {\n",
       "        text-align: right;\n",
       "    }\n",
       "</style>\n",
       "<table border=\"1\" class=\"dataframe\">\n",
       "  <thead>\n",
       "    <tr style=\"text-align: right;\">\n",
       "      <th></th>\n",
       "      <th>id</th>\n",
       "      <th>pattern</th>\n",
       "      <th>token_count</th>\n",
       "      <th>update_date</th>\n",
       "      <th>label</th>\n",
       "      <th>para</th>\n",
       "    </tr>\n",
       "  </thead>\n",
       "  <tbody>\n",
       "    <tr>\n",
       "      <th>0</th>\n",
       "      <td>1401.80080</td>\n",
       "      <td>code, package, code available, github, code pa...</td>\n",
       "      <td>56</td>\n",
       "      <td>2022-04-27</td>\n",
       "      <td>2</td>\n",
       "      <td>So we can solve the dual comparison problem (1...</td>\n",
       "    </tr>\n",
       "    <tr>\n",
       "      <th>123</th>\n",
       "      <td>1608.04885</td>\n",
       "      <td>data</td>\n",
       "      <td>18</td>\n",
       "      <td>2022-04-21</td>\n",
       "      <td>0</td>\n",
       "      <td>[122] A. A. Sofokleous and A. S. Andreou. Auto...</td>\n",
       "    </tr>\n",
       "    <tr>\n",
       "      <th>144</th>\n",
       "      <td>1608.04885</td>\n",
       "      <td>data</td>\n",
       "      <td>28</td>\n",
       "      <td>2022-04-21</td>\n",
       "      <td>0</td>\n",
       "      <td>interaction models. Moreover, by utilizing dat...</td>\n",
       "    </tr>\n",
       "    <tr>\n",
       "      <th>160</th>\n",
       "      <td>1608.04885</td>\n",
       "      <td>data</td>\n",
       "      <td>9</td>\n",
       "      <td>2022-04-21</td>\n",
       "      <td>0</td>\n",
       "      <td>data is transformed into messages sent and rec...</td>\n",
       "    </tr>\n",
       "    <tr>\n",
       "      <th>180</th>\n",
       "      <td>1608.04885</td>\n",
       "      <td>dataset</td>\n",
       "      <td>15</td>\n",
       "      <td>2022-04-21</td>\n",
       "      <td>0</td>\n",
       "      <td>represent the average times spent generating r...</td>\n",
       "    </tr>\n",
       "  </tbody>\n",
       "</table>\n",
       "</div>"
      ],
      "text/plain": [
       "             id                                            pattern  \\\n",
       "0    1401.80080  code, package, code available, github, code pa...   \n",
       "123  1608.04885                                               data   \n",
       "144  1608.04885                                               data   \n",
       "160  1608.04885                                               data   \n",
       "180  1608.04885                                            dataset   \n",
       "\n",
       "     token_count update_date  label  \\\n",
       "0             56  2022-04-27      2   \n",
       "123           18  2022-04-21      0   \n",
       "144           28  2022-04-21      0   \n",
       "160            9  2022-04-21      0   \n",
       "180           15  2022-04-21      0   \n",
       "\n",
       "                                                  para  \n",
       "0    So we can solve the dual comparison problem (1...  \n",
       "123  [122] A. A. Sofokleous and A. S. Andreou. Auto...  \n",
       "144  interaction models. Moreover, by utilizing dat...  \n",
       "160  data is transformed into messages sent and rec...  \n",
       "180  represent the average times spent generating r...  "
      ]
     },
     "execution_count": 16,
     "metadata": {},
     "output_type": "execute_result"
    }
   ],
   "source": [
    "df = df.dropna(subset=['label']).astype({'label': int})\n",
    "\n",
    "df.head()"
   ]
  },
  {
   "cell_type": "code",
   "execution_count": null,
   "metadata": {},
   "outputs": [],
   "source": []
  }
 ],
 "metadata": {
  "interpreter": {
   "hash": "17e082919eb97a8b1648db68459a0548143f50884a45122adabc4767e3d2dece"
  },
  "kernelspec": {
   "display_name": "Python 3.8.13 ('arxiv')",
   "language": "python",
   "name": "python3"
  },
  "language_info": {
   "codemirror_mode": {
    "name": "ipython",
    "version": 3
   },
   "file_extension": ".py",
   "mimetype": "text/x-python",
   "name": "python",
   "nbconvert_exporter": "python",
   "pygments_lexer": "ipython3",
   "version": "3.8.13"
  },
  "orig_nbformat": 4
 },
 "nbformat": 4,
 "nbformat_minor": 2
}
