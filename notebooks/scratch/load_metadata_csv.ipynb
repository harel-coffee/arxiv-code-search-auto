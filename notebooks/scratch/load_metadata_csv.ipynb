{
 "cells": [
  {
   "cell_type": "code",
   "execution_count": 1,
   "metadata": {},
   "outputs": [],
   "source": [
    "import pandas as pd\n",
    "import numpy as np\n",
    "from pathlib import Path"
   ]
  },
  {
   "cell_type": "code",
   "execution_count": 3,
   "metadata": {},
   "outputs": [
    {
     "name": "stdout",
     "output_type": "stream",
     "text": [
      "project_dir: /home/tim/Documents/arxiv-code-search\n"
     ]
    }
   ],
   "source": [
    "project_dir = Path.cwd().parent.parent\n",
    "print(\"project_dir:\", project_dir)"
   ]
  },
  {
   "cell_type": "code",
   "execution_count": 34,
   "metadata": {},
   "outputs": [
    {
     "data": {
      "text/html": [
       "<div>\n",
       "<style scoped>\n",
       "    .dataframe tbody tr th:only-of-type {\n",
       "        vertical-align: middle;\n",
       "    }\n",
       "\n",
       "    .dataframe tbody tr th {\n",
       "        vertical-align: top;\n",
       "    }\n",
       "\n",
       "    .dataframe thead th {\n",
       "        text-align: right;\n",
       "    }\n",
       "</style>\n",
       "<table border=\"1\" class=\"dataframe\">\n",
       "  <thead>\n",
       "    <tr style=\"text-align: right;\">\n",
       "      <th></th>\n",
       "      <th>id</th>\n",
       "      <th>submitter</th>\n",
       "      <th>authors</th>\n",
       "      <th>title</th>\n",
       "      <th>comments</th>\n",
       "      <th>journal-ref</th>\n",
       "      <th>doi</th>\n",
       "      <th>report-no</th>\n",
       "      <th>categories</th>\n",
       "      <th>license</th>\n",
       "      <th>abstract</th>\n",
       "      <th>versions</th>\n",
       "      <th>update_date</th>\n",
       "      <th>authors_parsed</th>\n",
       "    </tr>\n",
       "  </thead>\n",
       "  <tbody>\n",
       "    <tr>\n",
       "      <th>0</th>\n",
       "      <td>1410.6990</td>\n",
       "      <td>Dacheng Tao</td>\n",
       "      <td>Chang Xu, Tongliang Liu, Dacheng Tao, Chao Xu</td>\n",
       "      <td>Local Rademacher Complexity for Multi-label Le...</td>\n",
       "      <td>NaN</td>\n",
       "      <td>NaN</td>\n",
       "      <td>NaN</td>\n",
       "      <td>NaN</td>\n",
       "      <td>stat.ML cs.LG</td>\n",
       "      <td>http://arxiv.org/licenses/nonexclusive-distrib...</td>\n",
       "      <td>We analyze the local Rademacher complexity o...</td>\n",
       "      <td>[{'version': 'v1', 'created': 'Sun, 26 Oct 201...</td>\n",
       "      <td>2014-10-28</td>\n",
       "      <td>[[Xu, Chang, ], [Liu, Tongliang, ], [Tao, Dach...</td>\n",
       "    </tr>\n",
       "    <tr>\n",
       "      <th>1</th>\n",
       "      <td>1503.01072</td>\n",
       "      <td>Peter Schauenburg</td>\n",
       "      <td>Peter Schauenburg</td>\n",
       "      <td>Frobenius-Schur indicators for some fusion cat...</td>\n",
       "      <td>15 pages</td>\n",
       "      <td>NaN</td>\n",
       "      <td>NaN</td>\n",
       "      <td>NaN</td>\n",
       "      <td>math.QA math.RA</td>\n",
       "      <td>http://arxiv.org/licenses/nonexclusive-distrib...</td>\n",
       "      <td>We calculate Frobenius-Schur indicator value...</td>\n",
       "      <td>[{'version': 'v1', 'created': 'Tue, 3 Mar 2015...</td>\n",
       "      <td>2015-03-04</td>\n",
       "      <td>[[Schauenburg, Peter, ]]</td>\n",
       "    </tr>\n",
       "    <tr>\n",
       "      <th>2</th>\n",
       "      <td>hep-th/0410256</td>\n",
       "      <td>Diego Hernan Correa</td>\n",
       "      <td>L.G. Aldrovandi, D.H. Correa, F.A. Schaposnik ...</td>\n",
       "      <td>BPS Analysis of Gauge Field-Higgs Models in No...</td>\n",
       "      <td>11 pages</td>\n",
       "      <td>Phys.Rev. D71 (2005) 025015</td>\n",
       "      <td>10.1103/PhysRevD.71.025015</td>\n",
       "      <td>NaN</td>\n",
       "      <td>hep-th</td>\n",
       "      <td>NaN</td>\n",
       "      <td>We extend the study of BPS equations in ${\\c...</td>\n",
       "      <td>[{'version': 'v1', 'created': 'Wed, 27 Oct 200...</td>\n",
       "      <td>2009-11-10</td>\n",
       "      <td>[[Aldrovandi, L. G., ], [Correa, D. H., ], [Sc...</td>\n",
       "    </tr>\n",
       "    <tr>\n",
       "      <th>3</th>\n",
       "      <td>1708.06096</td>\n",
       "      <td>Fernand Renard M</td>\n",
       "      <td>Fernand M. Renard</td>\n",
       "      <td>Tests of bottom quark CSM properties</td>\n",
       "      <td>20 pages, 13 figures</td>\n",
       "      <td>NaN</td>\n",
       "      <td>NaN</td>\n",
       "      <td>NaN</td>\n",
       "      <td>hep-ph</td>\n",
       "      <td>http://arxiv.org/licenses/nonexclusive-distrib...</td>\n",
       "      <td>We look for possible (partial) compositeness...</td>\n",
       "      <td>[{'version': 'v1', 'created': 'Mon, 21 Aug 201...</td>\n",
       "      <td>2017-08-22</td>\n",
       "      <td>[[Renard, Fernand M., ]]</td>\n",
       "    </tr>\n",
       "    <tr>\n",
       "      <th>4</th>\n",
       "      <td>1706.06195</td>\n",
       "      <td>Ivo Gon\\c{c}alves</td>\n",
       "      <td>Ivo Gon\\c{c}alves, Sara Silva, Carlos M. Fonse...</td>\n",
       "      <td>Unsure When to Stop? Ask Your Semantic Neighbors</td>\n",
       "      <td>NaN</td>\n",
       "      <td>NaN</td>\n",
       "      <td>10.1145/3071178.3071328</td>\n",
       "      <td>NaN</td>\n",
       "      <td>cs.NE cs.LG stat.ML</td>\n",
       "      <td>http://arxiv.org/licenses/nonexclusive-distrib...</td>\n",
       "      <td>In iterative supervised learning algorithms ...</td>\n",
       "      <td>[{'version': 'v1', 'created': 'Mon, 19 Jun 201...</td>\n",
       "      <td>2017-06-21</td>\n",
       "      <td>[[Gonçalves, Ivo, ], [Silva, Sara, ], [Fonseca...</td>\n",
       "    </tr>\n",
       "  </tbody>\n",
       "</table>\n",
       "</div>"
      ],
      "text/plain": [
       "               id            submitter  \\\n",
       "0       1410.6990          Dacheng Tao   \n",
       "1      1503.01072    Peter Schauenburg   \n",
       "2  hep-th/0410256  Diego Hernan Correa   \n",
       "3      1708.06096     Fernand Renard M   \n",
       "4      1706.06195    Ivo Gon\\c{c}alves   \n",
       "\n",
       "                                             authors  \\\n",
       "0      Chang Xu, Tongliang Liu, Dacheng Tao, Chao Xu   \n",
       "1                                  Peter Schauenburg   \n",
       "2  L.G. Aldrovandi, D.H. Correa, F.A. Schaposnik ...   \n",
       "3                                  Fernand M. Renard   \n",
       "4  Ivo Gon\\c{c}alves, Sara Silva, Carlos M. Fonse...   \n",
       "\n",
       "                                               title              comments  \\\n",
       "0  Local Rademacher Complexity for Multi-label Le...                   NaN   \n",
       "1  Frobenius-Schur indicators for some fusion cat...              15 pages   \n",
       "2  BPS Analysis of Gauge Field-Higgs Models in No...              11 pages   \n",
       "3               Tests of bottom quark CSM properties  20 pages, 13 figures   \n",
       "4   Unsure When to Stop? Ask Your Semantic Neighbors                   NaN   \n",
       "\n",
       "                   journal-ref                         doi report-no  \\\n",
       "0                          NaN                         NaN       NaN   \n",
       "1                          NaN                         NaN       NaN   \n",
       "2  Phys.Rev. D71 (2005) 025015  10.1103/PhysRevD.71.025015       NaN   \n",
       "3                          NaN                         NaN       NaN   \n",
       "4                          NaN     10.1145/3071178.3071328       NaN   \n",
       "\n",
       "            categories                                            license  \\\n",
       "0        stat.ML cs.LG  http://arxiv.org/licenses/nonexclusive-distrib...   \n",
       "1      math.QA math.RA  http://arxiv.org/licenses/nonexclusive-distrib...   \n",
       "2               hep-th                                                NaN   \n",
       "3               hep-ph  http://arxiv.org/licenses/nonexclusive-distrib...   \n",
       "4  cs.NE cs.LG stat.ML  http://arxiv.org/licenses/nonexclusive-distrib...   \n",
       "\n",
       "                                            abstract  \\\n",
       "0    We analyze the local Rademacher complexity o...   \n",
       "1    We calculate Frobenius-Schur indicator value...   \n",
       "2    We extend the study of BPS equations in ${\\c...   \n",
       "3    We look for possible (partial) compositeness...   \n",
       "4    In iterative supervised learning algorithms ...   \n",
       "\n",
       "                                            versions update_date  \\\n",
       "0  [{'version': 'v1', 'created': 'Sun, 26 Oct 201...  2014-10-28   \n",
       "1  [{'version': 'v1', 'created': 'Tue, 3 Mar 2015...  2015-03-04   \n",
       "2  [{'version': 'v1', 'created': 'Wed, 27 Oct 200...  2009-11-10   \n",
       "3  [{'version': 'v1', 'created': 'Mon, 21 Aug 201...  2017-08-22   \n",
       "4  [{'version': 'v1', 'created': 'Mon, 19 Jun 201...  2017-06-21   \n",
       "\n",
       "                                      authors_parsed  \n",
       "0  [[Xu, Chang, ], [Liu, Tongliang, ], [Tao, Dach...  \n",
       "1                           [[Schauenburg, Peter, ]]  \n",
       "2  [[Aldrovandi, L. G., ], [Correa, D. H., ], [Sc...  \n",
       "3                           [[Renard, Fernand M., ]]  \n",
       "4  [[Gonçalves, Ivo, ], [Silva, Sara, ], [Fonseca...  "
      ]
     },
     "execution_count": 34,
     "metadata": {},
     "output_type": "execute_result"
    }
   ],
   "source": [
    "# load metadata_sample.csv\n",
    "metadata_csv = project_dir / \"notebooks/scratch\" / \"metadata_sample.csv\"\n",
    "\n",
    "dtypes_dict = {\n",
    "    'id': str, \n",
    "    'submitter': str, \n",
    "    'authors': str, \n",
    "    'title': str, \n",
    "    'comments': str, \n",
    "    'journal-ref': str, \n",
    "    'doi': str,\n",
    "    'report-no': str, \n",
    "    'categories': str, \n",
    "    'license': str, \n",
    "    'abstract': str, \n",
    "    'versions': str,\n",
    "    'authors_parsed': str,\n",
    "}\n",
    "\n",
    "\n",
    "df = pd.read_csv(metadata_csv, dtype=dtypes_dict, parse_dates=['update_date'])\n",
    "\n",
    "# parse \"versions\" and \"authors_parsed\" columns with eval\n",
    "df[\"versions\"] = df[\"versions\"].apply(eval)\n",
    "df[\"authors_parsed\"] = df[\"authors_parsed\"].apply(eval)\n",
    "\n",
    "df.head()"
   ]
  },
  {
   "cell_type": "code",
   "execution_count": 35,
   "metadata": {},
   "outputs": [
    {
     "data": {
      "text/plain": [
       "'stat.ML cs.LG'"
      ]
     },
     "execution_count": 35,
     "metadata": {},
     "output_type": "execute_result"
    }
   ],
   "source": [
    "df.loc[0]['categories']"
   ]
  },
  {
   "cell_type": "code",
   "execution_count": 28,
   "metadata": {},
   "outputs": [
    {
     "data": {
      "text/html": [
       "<div>\n",
       "<style scoped>\n",
       "    .dataframe tbody tr th:only-of-type {\n",
       "        vertical-align: middle;\n",
       "    }\n",
       "\n",
       "    .dataframe tbody tr th {\n",
       "        vertical-align: top;\n",
       "    }\n",
       "\n",
       "    .dataframe thead th {\n",
       "        text-align: right;\n",
       "    }\n",
       "</style>\n",
       "<table border=\"1\" class=\"dataframe\">\n",
       "  <thead>\n",
       "    <tr style=\"text-align: right;\">\n",
       "      <th></th>\n",
       "      <th>id</th>\n",
       "      <th>submitter</th>\n",
       "      <th>authors</th>\n",
       "      <th>title</th>\n",
       "      <th>comments</th>\n",
       "      <th>journal-ref</th>\n",
       "      <th>doi</th>\n",
       "      <th>report-no</th>\n",
       "      <th>categories</th>\n",
       "      <th>license</th>\n",
       "      <th>abstract</th>\n",
       "      <th>versions</th>\n",
       "      <th>update_date</th>\n",
       "      <th>authors_parsed</th>\n",
       "    </tr>\n",
       "  </thead>\n",
       "  <tbody>\n",
       "    <tr>\n",
       "      <th>8</th>\n",
       "      <td>gr-qc/9801071</td>\n",
       "      <td>Arlen Anderson</td>\n",
       "      <td>Arlen Anderson, Andrew M. Abrahams, and Chris Lea</td>\n",
       "      <td>Curvature-based Gauge-Invariant Perturbation T...</td>\n",
       "      <td>32 pp., LaTeX</td>\n",
       "      <td>Phys.Rev.D58:064015,1998</td>\n",
       "      <td>10.1103/PhysRevD.58.064015</td>\n",
       "      <td>IFP-UNC-522</td>\n",
       "      <td>gr-qc</td>\n",
       "      <td>NaN</td>\n",
       "      <td>A new approach to gravitational gauge-invari...</td>\n",
       "      <td>[{'version': 'v1', 'created': 'Tue, 20 Jan 199...</td>\n",
       "      <td>2011-04-21</td>\n",
       "      <td>[[Anderson, Arlen, ], [Abrahams, Andrew M., ],...</td>\n",
       "    </tr>\n",
       "    <tr>\n",
       "      <th>9</th>\n",
       "      <td>astro-ph/9711285</td>\n",
       "      <td>Zlatan Tsvetanov</td>\n",
       "      <td>R. Morganti, T. Oosterloo, and Z. Tsvetanov</td>\n",
       "      <td>A Radio Study of the Seyfert Galaxy IC 5063: E...</td>\n",
       "      <td>18 pages, 8 Postscript figures, 3 jpeg figures...</td>\n",
       "      <td>NaN</td>\n",
       "      <td>10.1086/300236</td>\n",
       "      <td>IRA-97-111</td>\n",
       "      <td>astro-ph</td>\n",
       "      <td>NaN</td>\n",
       "      <td>New radio continuum (8 GHz and 1.4 GHz) and ...</td>\n",
       "      <td>[{'version': 'v1', 'created': 'Mon, 24 Nov 199...</td>\n",
       "      <td>2009-10-30</td>\n",
       "      <td>[[Morganti, R., ], [Oosterloo, T., ], [Tsvetan...</td>\n",
       "    </tr>\n",
       "  </tbody>\n",
       "</table>\n",
       "</div>"
      ],
      "text/plain": [
       "                 id         submitter  \\\n",
       "8     gr-qc/9801071    Arlen Anderson   \n",
       "9  astro-ph/9711285  Zlatan Tsvetanov   \n",
       "\n",
       "                                             authors  \\\n",
       "8  Arlen Anderson, Andrew M. Abrahams, and Chris Lea   \n",
       "9        R. Morganti, T. Oosterloo, and Z. Tsvetanov   \n",
       "\n",
       "                                               title  \\\n",
       "8  Curvature-based Gauge-Invariant Perturbation T...   \n",
       "9  A Radio Study of the Seyfert Galaxy IC 5063: E...   \n",
       "\n",
       "                                            comments  \\\n",
       "8                                      32 pp., LaTeX   \n",
       "9  18 pages, 8 Postscript figures, 3 jpeg figures...   \n",
       "\n",
       "                journal-ref                         doi    report-no  \\\n",
       "8  Phys.Rev.D58:064015,1998  10.1103/PhysRevD.58.064015  IFP-UNC-522   \n",
       "9                       NaN              10.1086/300236   IRA-97-111   \n",
       "\n",
       "  categories license                                           abstract  \\\n",
       "8      gr-qc     NaN    A new approach to gravitational gauge-invari...   \n",
       "9   astro-ph     NaN    New radio continuum (8 GHz and 1.4 GHz) and ...   \n",
       "\n",
       "                                            versions update_date  \\\n",
       "8  [{'version': 'v1', 'created': 'Tue, 20 Jan 199...  2011-04-21   \n",
       "9  [{'version': 'v1', 'created': 'Mon, 24 Nov 199...  2009-10-30   \n",
       "\n",
       "                                      authors_parsed  \n",
       "8  [[Anderson, Arlen, ], [Abrahams, Andrew M., ],...  \n",
       "9  [[Morganti, R., ], [Oosterloo, T., ], [Tsvetan...  "
      ]
     },
     "execution_count": 28,
     "metadata": {},
     "output_type": "execute_result"
    }
   ],
   "source": [
    "# return \n",
    "df[df['report-no'].isnull()==False][:2]"
   ]
  },
  {
   "cell_type": "code",
   "execution_count": 24,
   "metadata": {},
   "outputs": [
    {
     "data": {
      "text/plain": [
       "Index(['id', 'submitter', 'authors', 'title', 'comments', 'journal-ref', 'doi',\n",
       "       'report-no', 'categories', 'license', 'abstract', 'versions',\n",
       "       'update_date', 'authors_parsed'],\n",
       "      dtype='object')"
      ]
     },
     "execution_count": 24,
     "metadata": {},
     "output_type": "execute_result"
    }
   ],
   "source": [
    "df.columns"
   ]
  },
  {
   "cell_type": "code",
   "execution_count": 31,
   "metadata": {},
   "outputs": [],
   "source": [
    "dtypes_dict = {\n",
    "    'id': str, \n",
    "    'submitter': str, \n",
    "    'authors': str, \n",
    "    'title': str, \n",
    "    'comments': str, \n",
    "    'journal-ref': str, \n",
    "    'doi': str,\n",
    "    'report-no': str, \n",
    "    'categories': str, \n",
    "    'license': str, \n",
    "    'abstract': str, \n",
    "    'versions': str,\n",
    "    'update_date': np.datetime64,  # pandas datetime\n",
    "    'authors_parsed': str,\n",
    "}"
   ]
  },
  {
   "cell_type": "code",
   "execution_count": 23,
   "metadata": {},
   "outputs": [
    {
     "data": {
      "text/plain": [
       "id                object\n",
       "submitter         object\n",
       "authors           object\n",
       "title             object\n",
       "comments          object\n",
       "journal-ref       object\n",
       "doi               object\n",
       "report-no         object\n",
       "categories        object\n",
       "license           object\n",
       "abstract          object\n",
       "versions          object\n",
       "update_date       object\n",
       "authors_parsed    object\n",
       "dtype: object"
      ]
     },
     "execution_count": 23,
     "metadata": {},
     "output_type": "execute_result"
    }
   ],
   "source": [
    "df.dtypes"
   ]
  },
  {
   "cell_type": "code",
   "execution_count": 18,
   "metadata": {},
   "outputs": [],
   "source": [
    "df['versions'] = df['versions'].apply(eval)\n",
    "df['authors_parsed'] = df['authors_parsed'].apply(eval)"
   ]
  },
  {
   "cell_type": "code",
   "execution_count": 20,
   "metadata": {},
   "outputs": [
    {
     "name": "stdout",
     "output_type": "stream",
     "text": [
      "[['Xu', 'Chang', ''], ['Liu', 'Tongliang', ''], ['Tao', 'Dacheng', ''], ['Xu', 'Chao', '']]\n"
     ]
    },
    {
     "data": {
      "text/plain": [
       "list"
      ]
     },
     "execution_count": 20,
     "metadata": {},
     "output_type": "execute_result"
    }
   ],
   "source": [
    "a = df.loc[0]['authors_parsed']\n",
    "print(a)\n",
    "type(df.loc[0]['authors_parsed'])\n",
    "\n",
    "l = df.loc[0]['versions']\n",
    "print(l)\n",
    "type(df.loc[0]['versions'])"
   ]
  },
  {
   "cell_type": "code",
   "execution_count": 13,
   "metadata": {},
   "outputs": [
    {
     "data": {
      "text/plain": [
       "dict"
      ]
     },
     "execution_count": 13,
     "metadata": {},
     "output_type": "execute_result"
    }
   ],
   "source": [
    "type(l[0])"
   ]
  },
  {
   "cell_type": "code",
   "execution_count": null,
   "metadata": {},
   "outputs": [],
   "source": []
  }
 ],
 "metadata": {
  "interpreter": {
   "hash": "17e082919eb97a8b1648db68459a0548143f50884a45122adabc4767e3d2dece"
  },
  "kernelspec": {
   "display_name": "Python 3.8.13 ('arxiv')",
   "language": "python",
   "name": "python3"
  },
  "language_info": {
   "codemirror_mode": {
    "name": "ipython",
    "version": 3
   },
   "file_extension": ".py",
   "mimetype": "text/x-python",
   "name": "python",
   "nbconvert_exporter": "python",
   "pygments_lexer": "ipython3",
   "version": "3.8.13"
  },
  "orig_nbformat": 4
 },
 "nbformat": 4,
 "nbformat_minor": 2
}
