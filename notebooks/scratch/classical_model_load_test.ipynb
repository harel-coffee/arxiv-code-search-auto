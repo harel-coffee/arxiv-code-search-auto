{
 "cells": [
  {
   "cell_type": "code",
   "execution_count": 9,
   "metadata": {},
   "outputs": [
    {
     "name": "stdout",
     "output_type": "stream",
     "text": [
      "The autoreload extension is already loaded. To reload it, use:\n",
      "  %reload_ext autoreload\n"
     ]
    }
   ],
   "source": [
    "import pandas as pd\n",
    "import numpy as np\n",
    "import matplotlib.pyplot as plt\n",
    "from pathlib import Path\n",
    "import pickle\n",
    "\n",
    "from src.models_classical.utils import (\n",
    "    under_over_sampler,\n",
    "    scale_data,\n",
    "    calculate_scores,\n",
    "    collate_scores_binary_classification,\n",
    "    get_classifier_and_params,\n",
    "    get_model_metrics_df,\n",
    ")\n",
    "\n",
    "from sklearn.preprocessing import StandardScaler, MinMaxScaler\n",
    "from sklearn.neighbors import KNeighborsClassifier\n",
    "from sklearn.ensemble import RandomForestClassifier\n",
    "from sklearn.linear_model import LogisticRegression, SGDClassifier, RidgeClassifier\n",
    "from sklearn.svm import SVC\n",
    "from sklearn.naive_bayes import GaussianNB\n",
    "from xgboost import XGBClassifier\n",
    "\n",
    "%load_ext autoreload\n",
    "%autoreload 2"
   ]
  },
  {
   "cell_type": "code",
   "execution_count": 11,
   "metadata": {},
   "outputs": [
    {
     "name": "stdout",
     "output_type": "stream",
     "text": [
      "/home/tim/Documents/arxiv-code-search\n"
     ]
    }
   ],
   "source": [
    "proj_dir = Path().cwd().parent.parent\n",
    "print(proj_dir)\n",
    "\n",
    "path_emb_dir = proj_dir / \"data\" / \"processed\" / \"embeddings\"\n",
    "path_model_dir = proj_dir / \"models\" / \"final_results_classical\" / \"model_files\""
   ]
  },
  {
   "cell_type": "code",
   "execution_count": 21,
   "metadata": {},
   "outputs": [],
   "source": [
    "emb_file = \"df_embeddings_other.pkl\"\n",
    "model_file = \"model_17325689_svm_2022-06-04-1356-26_papers1.pkl\"\n",
    "scaler_file = \"scaler_17325689_svm_2022-06-04-1356-26_papers1.pkl\"\n",
    "\n",
    "# load dfh.pickle\n",
    "with open(path_emb_dir / emb_file, \"rb\") as f:\n",
    "    df = pickle.load(f)\n",
    "\n",
    "# load sklearn scaler from scaler file\n",
    "with open(path_model_dir / scaler_file, \"rb\") as f:\n",
    "    scaler = pickle.load(f)\n",
    "\n",
    "# load the model\n",
    "with open(path_model_dir / model_file, \"rb\") as f:\n",
    "    model = pickle.load(f)"
   ]
  },
  {
   "cell_type": "code",
   "execution_count": 22,
   "metadata": {},
   "outputs": [
    {
     "name": "stdout",
     "output_type": "stream",
     "text": [
      "16.70672035217285\n",
      "5.186684776765523\n"
     ]
    }
   ],
   "source": [
    "x_test = np.array([e for e in df[\"h\"].values])\n",
    "print(np.max(x_test))\n",
    "\n",
    "x_test = scaler.transform(x_test)\n",
    "print(np.max(x_test))"
   ]
  },
  {
   "cell_type": "code",
   "execution_count": null,
   "metadata": {},
   "outputs": [],
   "source": []
  }
 ],
 "metadata": {
  "interpreter": {
   "hash": "17e082919eb97a8b1648db68459a0548143f50884a45122adabc4767e3d2dece"
  },
  "kernelspec": {
   "display_name": "Python 3.8.13 ('arxiv')",
   "language": "python",
   "name": "python3"
  },
  "language_info": {
   "codemirror_mode": {
    "name": "ipython",
    "version": 3
   },
   "file_extension": ".py",
   "mimetype": "text/x-python",
   "name": "python",
   "nbconvert_exporter": "python",
   "pygments_lexer": "ipython3",
   "version": "3.8.13"
  },
  "orig_nbformat": 4
 },
 "nbformat": 4,
 "nbformat_minor": 2
}
