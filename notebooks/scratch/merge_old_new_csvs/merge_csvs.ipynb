{
 "cells": [
  {
   "cell_type": "code",
   "execution_count": 1,
   "metadata": {},
   "outputs": [],
   "source": [
    "import pandas as pd\n",
    "from pathlib import Path"
   ]
  },
  {
   "cell_type": "code",
   "execution_count": 40,
   "metadata": {},
   "outputs": [],
   "source": [
    "index_no = 2"
   ]
  },
  {
   "cell_type": "code",
   "execution_count": 41,
   "metadata": {},
   "outputs": [
    {
     "name": "stdout",
     "output_type": "stream",
     "text": [
      "(3104, 5)\n"
     ]
    },
    {
     "data": {
      "text/html": [
       "<div>\n",
       "<style scoped>\n",
       "    .dataframe tbody tr th:only-of-type {\n",
       "        vertical-align: middle;\n",
       "    }\n",
       "\n",
       "    .dataframe tbody tr th {\n",
       "        vertical-align: top;\n",
       "    }\n",
       "\n",
       "    .dataframe thead th {\n",
       "        text-align: right;\n",
       "    }\n",
       "</style>\n",
       "<table border=\"1\" class=\"dataframe\">\n",
       "  <thead>\n",
       "    <tr style=\"text-align: right;\">\n",
       "      <th></th>\n",
       "      <th>id</th>\n",
       "      <th>pattern</th>\n",
       "      <th>update_date</th>\n",
       "      <th>label</th>\n",
       "      <th>para</th>\n",
       "    </tr>\n",
       "  </thead>\n",
       "  <tbody>\n",
       "    <tr>\n",
       "      <th>0</th>\n",
       "      <td>2110.11575</td>\n",
       "      <td>github, data repos</td>\n",
       "      <td>04/21/22</td>\n",
       "      <td>0</td>\n",
       "      <td>Make sure the target repo (the repo to be anal...</td>\n",
       "    </tr>\n",
       "    <tr>\n",
       "      <th>1</th>\n",
       "      <td>2103.15335</td>\n",
       "      <td>dataset</td>\n",
       "      <td>04/21/22</td>\n",
       "      <td>0</td>\n",
       "      <td>3.1 Datasets</td>\n",
       "    </tr>\n",
       "    <tr>\n",
       "      <th>2</th>\n",
       "      <td>2109.12907</td>\n",
       "      <td>dataset</td>\n",
       "      <td>04/21/22</td>\n",
       "      <td>0</td>\n",
       "      <td>Table 3: Usage of relations in the dataset.</td>\n",
       "    </tr>\n",
       "    <tr>\n",
       "      <th>3</th>\n",
       "      <td>2012.04966</td>\n",
       "      <td>data</td>\n",
       "      <td>NaN</td>\n",
       "      <td>NaN</td>\n",
       "      <td>In one thesis [27], we aimed for generalizatio...</td>\n",
       "    </tr>\n",
       "    <tr>\n",
       "      <th>4</th>\n",
       "      <td>2010.0562</td>\n",
       "      <td>data</td>\n",
       "      <td>NaN</td>\n",
       "      <td>NaN</td>\n",
       "      <td>[16] Elena Parkhomenko, David Tritchler, and J...</td>\n",
       "    </tr>\n",
       "  </tbody>\n",
       "</table>\n",
       "</div>"
      ],
      "text/plain": [
       "           id             pattern update_date label  \\\n",
       "0  2110.11575  github, data repos    04/21/22     0   \n",
       "1  2103.15335             dataset    04/21/22     0   \n",
       "2  2109.12907             dataset    04/21/22     0   \n",
       "3  2012.04966                data         NaN   NaN   \n",
       "4   2010.0562                data         NaN   NaN   \n",
       "\n",
       "                                                para  \n",
       "0  Make sure the target repo (the repo to be anal...  \n",
       "1                                       3.1 Datasets  \n",
       "2        Table 3: Usage of relations in the dataset.  \n",
       "3  In one thesis [27], we aimed for generalizatio...  \n",
       "4  [16] Elena Parkhomenko, David Tritchler, and J...  "
      ]
     },
     "execution_count": 41,
     "metadata": {},
     "output_type": "execute_result"
    }
   ],
   "source": [
    "df_old = pd.read_csv(f\"labels_{index_no}_old.csv\", dtype=str)\n",
    "print(df_old.shape)\n",
    "df_old.head()"
   ]
  },
  {
   "cell_type": "code",
   "execution_count": 42,
   "metadata": {},
   "outputs": [
    {
     "name": "stdout",
     "output_type": "stream",
     "text": [
      "(2912, 4)\n"
     ]
    },
    {
     "data": {
      "text/html": [
       "<div>\n",
       "<style scoped>\n",
       "    .dataframe tbody tr th:only-of-type {\n",
       "        vertical-align: middle;\n",
       "    }\n",
       "\n",
       "    .dataframe tbody tr th {\n",
       "        vertical-align: top;\n",
       "    }\n",
       "\n",
       "    .dataframe thead th {\n",
       "        text-align: right;\n",
       "    }\n",
       "</style>\n",
       "<table border=\"1\" class=\"dataframe\">\n",
       "  <thead>\n",
       "    <tr style=\"text-align: right;\">\n",
       "      <th></th>\n",
       "      <th>id</th>\n",
       "      <th>pattern</th>\n",
       "      <th>token_count</th>\n",
       "      <th>para</th>\n",
       "    </tr>\n",
       "  </thead>\n",
       "  <tbody>\n",
       "    <tr>\n",
       "      <th>0</th>\n",
       "      <td>1702.03196</td>\n",
       "      <td>data</td>\n",
       "      <td>397</td>\n",
       "      <td>eaveragedstructuredperceptron(Collins,2002)fro...</td>\n",
       "    </tr>\n",
       "    <tr>\n",
       "      <th>1</th>\n",
       "      <td>1702.03196</td>\n",
       "      <td>github</td>\n",
       "      <td>15</td>\n",
       "      <td>SivaReddy,OscarT¨ackstr¨om,MichaelCollins,TomK...</td>\n",
       "    </tr>\n",
       "    <tr>\n",
       "      <th>2</th>\n",
       "      <td>1702.03196</td>\n",
       "      <td>github</td>\n",
       "      <td>265</td>\n",
       "      <td>6.QuestionAnsweringonFreebaseviaRelationExtrac...</td>\n",
       "    </tr>\n",
       "    <tr>\n",
       "      <th>3</th>\n",
       "      <td>1702.03196</td>\n",
       "      <td>github</td>\n",
       "      <td>421</td>\n",
       "      <td>UniversalSemanticParsingSivaReddy†∗OscarT¨acks...</td>\n",
       "    </tr>\n",
       "    <tr>\n",
       "      <th>4</th>\n",
       "      <td>1702.03196</td>\n",
       "      <td>github</td>\n",
       "      <td>555</td>\n",
       "      <td>1.1WithOriginalTypeSystemWewillﬁrstattempttode...</td>\n",
       "    </tr>\n",
       "  </tbody>\n",
       "</table>\n",
       "</div>"
      ],
      "text/plain": [
       "           id pattern token_count  \\\n",
       "0  1702.03196    data         397   \n",
       "1  1702.03196  github          15   \n",
       "2  1702.03196  github         265   \n",
       "3  1702.03196  github         421   \n",
       "4  1702.03196  github         555   \n",
       "\n",
       "                                                para  \n",
       "0  eaveragedstructuredperceptron(Collins,2002)fro...  \n",
       "1  SivaReddy,OscarT¨ackstr¨om,MichaelCollins,TomK...  \n",
       "2  6.QuestionAnsweringonFreebaseviaRelationExtrac...  \n",
       "3  UniversalSemanticParsingSivaReddy†∗OscarT¨acks...  \n",
       "4  1.1WithOriginalTypeSystemWewillﬁrstattempttode...  "
      ]
     },
     "execution_count": 42,
     "metadata": {},
     "output_type": "execute_result"
    }
   ],
   "source": [
    "df_new = pd.read_csv(f\"labels_{index_no}_new.csv\", dtype=str).drop(columns=[\"update_date\", \"label\"])\n",
    "print(df_new.shape)\n",
    "df_new.head()"
   ]
  },
  {
   "cell_type": "code",
   "execution_count": 43,
   "metadata": {},
   "outputs": [
    {
     "name": "stdout",
     "output_type": "stream",
     "text": [
      "(2912, 6)\n"
     ]
    },
    {
     "data": {
      "text/html": [
       "<div>\n",
       "<style scoped>\n",
       "    .dataframe tbody tr th:only-of-type {\n",
       "        vertical-align: middle;\n",
       "    }\n",
       "\n",
       "    .dataframe tbody tr th {\n",
       "        vertical-align: top;\n",
       "    }\n",
       "\n",
       "    .dataframe thead th {\n",
       "        text-align: right;\n",
       "    }\n",
       "</style>\n",
       "<table border=\"1\" class=\"dataframe\">\n",
       "  <thead>\n",
       "    <tr style=\"text-align: right;\">\n",
       "      <th></th>\n",
       "      <th>id</th>\n",
       "      <th>pattern</th>\n",
       "      <th>token_count</th>\n",
       "      <th>update_date</th>\n",
       "      <th>label</th>\n",
       "      <th>para</th>\n",
       "    </tr>\n",
       "  </thead>\n",
       "  <tbody>\n",
       "    <tr>\n",
       "      <th>0</th>\n",
       "      <td>1702.03196</td>\n",
       "      <td>data</td>\n",
       "      <td>397</td>\n",
       "      <td>NaN</td>\n",
       "      <td>NaN</td>\n",
       "      <td>eaveragedstructuredperceptron(Collins,2002)fro...</td>\n",
       "    </tr>\n",
       "    <tr>\n",
       "      <th>1</th>\n",
       "      <td>1702.03196</td>\n",
       "      <td>github</td>\n",
       "      <td>15</td>\n",
       "      <td>NaN</td>\n",
       "      <td>NaN</td>\n",
       "      <td>SivaReddy,OscarT¨ackstr¨om,MichaelCollins,TomK...</td>\n",
       "    </tr>\n",
       "    <tr>\n",
       "      <th>2</th>\n",
       "      <td>1702.03196</td>\n",
       "      <td>github</td>\n",
       "      <td>265</td>\n",
       "      <td>NaN</td>\n",
       "      <td>NaN</td>\n",
       "      <td>6.QuestionAnsweringonFreebaseviaRelationExtrac...</td>\n",
       "    </tr>\n",
       "    <tr>\n",
       "      <th>3</th>\n",
       "      <td>1702.03196</td>\n",
       "      <td>github</td>\n",
       "      <td>421</td>\n",
       "      <td>NaN</td>\n",
       "      <td>NaN</td>\n",
       "      <td>UniversalSemanticParsingSivaReddy†∗OscarT¨acks...</td>\n",
       "    </tr>\n",
       "    <tr>\n",
       "      <th>4</th>\n",
       "      <td>1702.03196</td>\n",
       "      <td>github</td>\n",
       "      <td>555</td>\n",
       "      <td>NaN</td>\n",
       "      <td>NaN</td>\n",
       "      <td>1.1WithOriginalTypeSystemWewillﬁrstattempttode...</td>\n",
       "    </tr>\n",
       "  </tbody>\n",
       "</table>\n",
       "</div>"
      ],
      "text/plain": [
       "           id pattern token_count update_date label  \\\n",
       "0  1702.03196    data         397         NaN   NaN   \n",
       "1  1702.03196  github          15         NaN   NaN   \n",
       "2  1702.03196  github         265         NaN   NaN   \n",
       "3  1702.03196  github         421         NaN   NaN   \n",
       "4  1702.03196  github         555         NaN   NaN   \n",
       "\n",
       "                                                para  \n",
       "0  eaveragedstructuredperceptron(Collins,2002)fro...  \n",
       "1  SivaReddy,OscarT¨ackstr¨om,MichaelCollins,TomK...  \n",
       "2  6.QuestionAnsweringonFreebaseviaRelationExtrac...  \n",
       "3  UniversalSemanticParsingSivaReddy†∗OscarT¨acks...  \n",
       "4  1.1WithOriginalTypeSystemWewillﬁrstattempttode...  "
      ]
     },
     "execution_count": 43,
     "metadata": {},
     "output_type": "execute_result"
    }
   ],
   "source": [
    "df_new = df_new.merge(df_old, on=[\"id\", \"pattern\", \"para\"], how=\"left\")\n",
    "df_new = df_new[[\"id\", \"pattern\", \"token_count\", \"update_date\", \"label\", \"para\"]].sort_values(by=[\"id\", \"pattern\", \"token_count\"])\n",
    "print(df_new.shape)\n",
    "df_new.head()\n"
   ]
  },
  {
   "cell_type": "code",
   "execution_count": 44,
   "metadata": {},
   "outputs": [],
   "source": [
    "df_new.to_csv(f\"labels_{index_no}_new_merged.csv\", index=False)"
   ]
  },
  {
   "cell_type": "code",
   "execution_count": null,
   "metadata": {},
   "outputs": [],
   "source": []
  },
  {
   "cell_type": "code",
   "execution_count": 4,
   "metadata": {},
   "outputs": [],
   "source": [
    "def merge_existing_new_labels(df_existing, df_new):\n",
    "    df_existing = df_existing.merge(\n",
    "        df_new[[\"para\", \"id\", \"pattern\", \"token_count\"]], on=[\"para\", \"id\", \"token_count\"], how=\"outer\"\n",
    "    )\n",
    "\n",
    "    # if pattern_y is NaN, then copy pattern_x to pattern_y\n",
    "    df_existing[\"pattern\"] = df_existing[\"pattern_y\"].fillna(df_existing[\"pattern_x\"])\n",
    "\n",
    "    # drop columns that are not needed, pattern_x and pattern_y\n",
    "    df_existing = df_existing.drop([\"pattern_x\", \"pattern_y\"], axis=1)\n",
    "    return df_existing[[\"id\", \"pattern\", \"token_count\", \"update_date\", \"label\", \"para\"]]\n"
   ]
  },
  {
   "cell_type": "code",
   "execution_count": null,
   "metadata": {},
   "outputs": [],
   "source": []
  }
 ],
 "metadata": {
  "interpreter": {
   "hash": "17e082919eb97a8b1648db68459a0548143f50884a45122adabc4767e3d2dece"
  },
  "kernelspec": {
   "display_name": "Python 3.8.13 ('arxiv')",
   "language": "python",
   "name": "python3"
  },
  "language_info": {
   "codemirror_mode": {
    "name": "ipython",
    "version": 3
   },
   "file_extension": ".py",
   "mimetype": "text/x-python",
   "name": "python",
   "nbconvert_exporter": "python",
   "pygments_lexer": "ipython3",
   "version": "3.8.13"
  },
  "orig_nbformat": 4
 },
 "nbformat": 4,
 "nbformat_minor": 2
}
