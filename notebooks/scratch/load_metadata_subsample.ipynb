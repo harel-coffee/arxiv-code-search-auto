{
 "cells": [
  {
   "cell_type": "code",
   "execution_count": 21,
   "metadata": {},
   "outputs": [],
   "source": [
    "import pandas as pd\n",
    "from pathlib import Path\n",
    "import os\n",
    "import ast"
   ]
  },
  {
   "cell_type": "code",
   "execution_count": 2,
   "metadata": {},
   "outputs": [
    {
     "data": {
      "text/html": [
       "<div>\n",
       "<style scoped>\n",
       "    .dataframe tbody tr th:only-of-type {\n",
       "        vertical-align: middle;\n",
       "    }\n",
       "\n",
       "    .dataframe tbody tr th {\n",
       "        vertical-align: top;\n",
       "    }\n",
       "\n",
       "    .dataframe thead th {\n",
       "        text-align: right;\n",
       "    }\n",
       "</style>\n",
       "<table border=\"1\" class=\"dataframe\">\n",
       "  <thead>\n",
       "    <tr style=\"text-align: right;\">\n",
       "      <th></th>\n",
       "      <th>id</th>\n",
       "      <th>submitter</th>\n",
       "      <th>authors</th>\n",
       "      <th>title</th>\n",
       "      <th>comments</th>\n",
       "      <th>journal-ref</th>\n",
       "      <th>doi</th>\n",
       "      <th>report-no</th>\n",
       "      <th>categories</th>\n",
       "      <th>license</th>\n",
       "      <th>abstract</th>\n",
       "      <th>versions</th>\n",
       "      <th>update_date</th>\n",
       "      <th>authors_parsed</th>\n",
       "    </tr>\n",
       "  </thead>\n",
       "  <tbody>\n",
       "    <tr>\n",
       "      <th>0</th>\n",
       "      <td>2202.04705</td>\n",
       "      <td>George Li</td>\n",
       "      <td>George Li and Ann Li and Madhav Marathe and Ar...</td>\n",
       "      <td>Deploying Vaccine Distribution Sites for Impro...</td>\n",
       "      <td>14 pages, 4 figures, to appear at AAMAS 2022</td>\n",
       "      <td>NaN</td>\n",
       "      <td>NaN</td>\n",
       "      <td>NaN</td>\n",
       "      <td>cs.AI cs.DS cs.MA cs.SI</td>\n",
       "      <td>http://creativecommons.org/licenses/by/4.0/</td>\n",
       "      <td>In response to COVID-19, many countries have...</td>\n",
       "      <td>[{'version': 'v1', 'created': 'Wed, 9 Feb 2022...</td>\n",
       "      <td>2022-02-11</td>\n",
       "      <td>[['Li', 'George', ''], ['Li', 'Ann', ''], ['Ma...</td>\n",
       "    </tr>\n",
       "    <tr>\n",
       "      <th>1</th>\n",
       "      <td>2102.13085</td>\n",
       "      <td>Nikola Jovanovi\\'c</td>\n",
       "      <td>Nikola Jovanovi\\'c, Zhao Meng, Lukas Faber, Ro...</td>\n",
       "      <td>Towards Robust Graph Contrastive Learning</td>\n",
       "      <td>NaN</td>\n",
       "      <td>NaN</td>\n",
       "      <td>NaN</td>\n",
       "      <td>NaN</td>\n",
       "      <td>cs.LG cs.AI cs.SI stat.ML</td>\n",
       "      <td>http://creativecommons.org/licenses/by/4.0/</td>\n",
       "      <td>We study the problem of adversarially robust...</td>\n",
       "      <td>[{'version': 'v1', 'created': 'Thu, 25 Feb 202...</td>\n",
       "      <td>2021-02-26</td>\n",
       "      <td>[['Jovanović', 'Nikola', ''], ['Meng', 'Zhao',...</td>\n",
       "    </tr>\n",
       "    <tr>\n",
       "      <th>2</th>\n",
       "      <td>2011.12909</td>\n",
       "      <td>Keunhan Park</td>\n",
       "      <td>A. N. M. Taufiq Elahi, Mohammad Ghashami, Devo...</td>\n",
       "      <td>Comprehensive Energy Balance Analysis of Photo...</td>\n",
       "      <td>31 pages, 7 figures</td>\n",
       "      <td>Sol. Energy Mater. Sol. Cells 226 (2021) 111067</td>\n",
       "      <td>10.1016/j.solmat.2021.111067</td>\n",
       "      <td>SOLMAT 111067</td>\n",
       "      <td>physics.app-ph</td>\n",
       "      <td>http://creativecommons.org/licenses/by/4.0/</td>\n",
       "      <td>The present article reports a comprehensive ...</td>\n",
       "      <td>[{'version': 'v1', 'created': 'Wed, 25 Nov 202...</td>\n",
       "      <td>2021-04-06</td>\n",
       "      <td>[['Elahi', 'A. N. M. Taufiq', ''], ['Ghashami'...</td>\n",
       "    </tr>\n",
       "    <tr>\n",
       "      <th>3</th>\n",
       "      <td>2108.11344</td>\n",
       "      <td>Sarwar J. Minar</td>\n",
       "      <td>Sarwar J. Minar</td>\n",
       "      <td>Refugees and Host State Security: An Empirical...</td>\n",
       "      <td>28 pages, 78th Annual Conference of the Midwes...</td>\n",
       "      <td>NaN</td>\n",
       "      <td>NaN</td>\n",
       "      <td>NaN</td>\n",
       "      <td>econ.GN q-fin.EC</td>\n",
       "      <td>http://creativecommons.org/licenses/by/4.0/</td>\n",
       "      <td>Conventional wisdom suggests that large-scal...</td>\n",
       "      <td>[{'version': 'v1', 'created': 'Wed, 25 Aug 202...</td>\n",
       "      <td>2021-08-26</td>\n",
       "      <td>[['Minar', 'Sarwar J.', '']]</td>\n",
       "    </tr>\n",
       "    <tr>\n",
       "      <th>4</th>\n",
       "      <td>2105.04452</td>\n",
       "      <td>Kenneth Joseph</td>\n",
       "      <td>Jacqueline Hannan, Huei-Yen Winnie Chen, Kenne...</td>\n",
       "      <td>Who Gets What, According to Whom? An Analysis ...</td>\n",
       "      <td>Accepted at AIES'21</td>\n",
       "      <td>NaN</td>\n",
       "      <td>10.1145/3461702.3462568</td>\n",
       "      <td>NaN</td>\n",
       "      <td>cs.CY</td>\n",
       "      <td>http://creativecommons.org/licenses/by/4.0/</td>\n",
       "      <td>Algorithmic fairness research has traditiona...</td>\n",
       "      <td>[{'version': 'v1', 'created': 'Mon, 10 May 202...</td>\n",
       "      <td>2021-05-11</td>\n",
       "      <td>[['Hannan', 'Jacqueline', ''], ['Chen', 'Huei-...</td>\n",
       "    </tr>\n",
       "  </tbody>\n",
       "</table>\n",
       "</div>"
      ],
      "text/plain": [
       "           id           submitter  \\\n",
       "0  2202.04705           George Li   \n",
       "1  2102.13085  Nikola Jovanovi\\'c   \n",
       "2  2011.12909        Keunhan Park   \n",
       "3  2108.11344     Sarwar J. Minar   \n",
       "4  2105.04452      Kenneth Joseph   \n",
       "\n",
       "                                             authors  \\\n",
       "0  George Li and Ann Li and Madhav Marathe and Ar...   \n",
       "1  Nikola Jovanovi\\'c, Zhao Meng, Lukas Faber, Ro...   \n",
       "2  A. N. M. Taufiq Elahi, Mohammad Ghashami, Devo...   \n",
       "3                                    Sarwar J. Minar   \n",
       "4  Jacqueline Hannan, Huei-Yen Winnie Chen, Kenne...   \n",
       "\n",
       "                                               title  \\\n",
       "0  Deploying Vaccine Distribution Sites for Impro...   \n",
       "1          Towards Robust Graph Contrastive Learning   \n",
       "2  Comprehensive Energy Balance Analysis of Photo...   \n",
       "3  Refugees and Host State Security: An Empirical...   \n",
       "4  Who Gets What, According to Whom? An Analysis ...   \n",
       "\n",
       "                                            comments  \\\n",
       "0       14 pages, 4 figures, to appear at AAMAS 2022   \n",
       "1                                                NaN   \n",
       "2                                31 pages, 7 figures   \n",
       "3  28 pages, 78th Annual Conference of the Midwes...   \n",
       "4                                Accepted at AIES'21   \n",
       "\n",
       "                                       journal-ref  \\\n",
       "0                                              NaN   \n",
       "1                                              NaN   \n",
       "2  Sol. Energy Mater. Sol. Cells 226 (2021) 111067   \n",
       "3                                              NaN   \n",
       "4                                              NaN   \n",
       "\n",
       "                            doi      report-no                 categories  \\\n",
       "0                           NaN            NaN    cs.AI cs.DS cs.MA cs.SI   \n",
       "1                           NaN            NaN  cs.LG cs.AI cs.SI stat.ML   \n",
       "2  10.1016/j.solmat.2021.111067  SOLMAT 111067             physics.app-ph   \n",
       "3                           NaN            NaN           econ.GN q-fin.EC   \n",
       "4       10.1145/3461702.3462568            NaN                      cs.CY   \n",
       "\n",
       "                                       license  \\\n",
       "0  http://creativecommons.org/licenses/by/4.0/   \n",
       "1  http://creativecommons.org/licenses/by/4.0/   \n",
       "2  http://creativecommons.org/licenses/by/4.0/   \n",
       "3  http://creativecommons.org/licenses/by/4.0/   \n",
       "4  http://creativecommons.org/licenses/by/4.0/   \n",
       "\n",
       "                                            abstract  \\\n",
       "0    In response to COVID-19, many countries have...   \n",
       "1    We study the problem of adversarially robust...   \n",
       "2    The present article reports a comprehensive ...   \n",
       "3    Conventional wisdom suggests that large-scal...   \n",
       "4    Algorithmic fairness research has traditiona...   \n",
       "\n",
       "                                            versions update_date  \\\n",
       "0  [{'version': 'v1', 'created': 'Wed, 9 Feb 2022...  2022-02-11   \n",
       "1  [{'version': 'v1', 'created': 'Thu, 25 Feb 202...  2021-02-26   \n",
       "2  [{'version': 'v1', 'created': 'Wed, 25 Nov 202...  2021-04-06   \n",
       "3  [{'version': 'v1', 'created': 'Wed, 25 Aug 202...  2021-08-26   \n",
       "4  [{'version': 'v1', 'created': 'Mon, 10 May 202...  2021-05-11   \n",
       "\n",
       "                                      authors_parsed  \n",
       "0  [['Li', 'George', ''], ['Li', 'Ann', ''], ['Ma...  \n",
       "1  [['Jovanović', 'Nikola', ''], ['Meng', 'Zhao',...  \n",
       "2  [['Elahi', 'A. N. M. Taufiq', ''], ['Ghashami'...  \n",
       "3                       [['Minar', 'Sarwar J.', '']]  \n",
       "4  [['Hannan', 'Jacqueline', ''], ['Chen', 'Huei-...  "
      ]
     },
     "execution_count": 2,
     "metadata": {},
     "output_type": "execute_result"
    }
   ],
   "source": [
    "df = pd.read_csv(\"/home/tim/Documents/arxiv-code-search/data/raw/metadata_subsample_50k.csv\")\n",
    "df.head()"
   ]
  },
  {
   "cell_type": "code",
   "execution_count": 3,
   "metadata": {},
   "outputs": [
    {
     "data": {
      "text/html": [
       "<div>\n",
       "<style scoped>\n",
       "    .dataframe tbody tr th:only-of-type {\n",
       "        vertical-align: middle;\n",
       "    }\n",
       "\n",
       "    .dataframe tbody tr th {\n",
       "        vertical-align: top;\n",
       "    }\n",
       "\n",
       "    .dataframe thead th {\n",
       "        text-align: right;\n",
       "    }\n",
       "</style>\n",
       "<table border=\"1\" class=\"dataframe\">\n",
       "  <thead>\n",
       "    <tr style=\"text-align: right;\">\n",
       "      <th></th>\n",
       "      <th>id</th>\n",
       "      <th>submitter</th>\n",
       "      <th>authors</th>\n",
       "      <th>title</th>\n",
       "      <th>comments</th>\n",
       "      <th>journal-ref</th>\n",
       "      <th>doi</th>\n",
       "      <th>report-no</th>\n",
       "      <th>categories</th>\n",
       "      <th>license</th>\n",
       "      <th>abstract</th>\n",
       "      <th>versions</th>\n",
       "      <th>update_date</th>\n",
       "      <th>authors_parsed</th>\n",
       "    </tr>\n",
       "  </thead>\n",
       "  <tbody>\n",
       "    <tr>\n",
       "      <th>0</th>\n",
       "      <td>2202.04705</td>\n",
       "      <td>George Li</td>\n",
       "      <td>George Li and Ann Li and Madhav Marathe and Ar...</td>\n",
       "      <td>Deploying Vaccine Distribution Sites for Impro...</td>\n",
       "      <td>14 pages, 4 figures, to appear at AAMAS 2022</td>\n",
       "      <td>NaN</td>\n",
       "      <td>NaN</td>\n",
       "      <td>NaN</td>\n",
       "      <td>cs.AI cs.DS cs.MA cs.SI</td>\n",
       "      <td>http://creativecommons.org/licenses/by/4.0/</td>\n",
       "      <td>In response to COVID-19, many countries have...</td>\n",
       "      <td>[{'version': 'v1', 'created': 'Wed, 9 Feb 2022...</td>\n",
       "      <td>2022-02-11</td>\n",
       "      <td>[['Li', 'George', ''], ['Li', 'Ann', ''], ['Ma...</td>\n",
       "    </tr>\n",
       "    <tr>\n",
       "      <th>1</th>\n",
       "      <td>2102.13085</td>\n",
       "      <td>Nikola Jovanovi\\'c</td>\n",
       "      <td>Nikola Jovanovi\\'c, Zhao Meng, Lukas Faber, Ro...</td>\n",
       "      <td>Towards Robust Graph Contrastive Learning</td>\n",
       "      <td>NaN</td>\n",
       "      <td>NaN</td>\n",
       "      <td>NaN</td>\n",
       "      <td>NaN</td>\n",
       "      <td>cs.LG cs.AI cs.SI stat.ML</td>\n",
       "      <td>http://creativecommons.org/licenses/by/4.0/</td>\n",
       "      <td>We study the problem of adversarially robust...</td>\n",
       "      <td>[{'version': 'v1', 'created': 'Thu, 25 Feb 202...</td>\n",
       "      <td>2021-02-26</td>\n",
       "      <td>[['Jovanović', 'Nikola', ''], ['Meng', 'Zhao',...</td>\n",
       "    </tr>\n",
       "    <tr>\n",
       "      <th>2</th>\n",
       "      <td>2011.12909</td>\n",
       "      <td>Keunhan Park</td>\n",
       "      <td>A. N. M. Taufiq Elahi, Mohammad Ghashami, Devo...</td>\n",
       "      <td>Comprehensive Energy Balance Analysis of Photo...</td>\n",
       "      <td>31 pages, 7 figures</td>\n",
       "      <td>Sol. Energy Mater. Sol. Cells 226 (2021) 111067</td>\n",
       "      <td>10.1016/j.solmat.2021.111067</td>\n",
       "      <td>SOLMAT 111067</td>\n",
       "      <td>physics.app-ph</td>\n",
       "      <td>http://creativecommons.org/licenses/by/4.0/</td>\n",
       "      <td>The present article reports a comprehensive ...</td>\n",
       "      <td>[{'version': 'v1', 'created': 'Wed, 25 Nov 202...</td>\n",
       "      <td>2021-04-06</td>\n",
       "      <td>[['Elahi', 'A. N. M. Taufiq', ''], ['Ghashami'...</td>\n",
       "    </tr>\n",
       "    <tr>\n",
       "      <th>3</th>\n",
       "      <td>2108.11344</td>\n",
       "      <td>Sarwar J. Minar</td>\n",
       "      <td>Sarwar J. Minar</td>\n",
       "      <td>Refugees and Host State Security: An Empirical...</td>\n",
       "      <td>28 pages, 78th Annual Conference of the Midwes...</td>\n",
       "      <td>NaN</td>\n",
       "      <td>NaN</td>\n",
       "      <td>NaN</td>\n",
       "      <td>econ.GN q-fin.EC</td>\n",
       "      <td>http://creativecommons.org/licenses/by/4.0/</td>\n",
       "      <td>Conventional wisdom suggests that large-scal...</td>\n",
       "      <td>[{'version': 'v1', 'created': 'Wed, 25 Aug 202...</td>\n",
       "      <td>2021-08-26</td>\n",
       "      <td>[['Minar', 'Sarwar J.', '']]</td>\n",
       "    </tr>\n",
       "    <tr>\n",
       "      <th>4</th>\n",
       "      <td>2105.04452</td>\n",
       "      <td>Kenneth Joseph</td>\n",
       "      <td>Jacqueline Hannan, Huei-Yen Winnie Chen, Kenne...</td>\n",
       "      <td>Who Gets What, According to Whom? An Analysis ...</td>\n",
       "      <td>Accepted at AIES'21</td>\n",
       "      <td>NaN</td>\n",
       "      <td>10.1145/3461702.3462568</td>\n",
       "      <td>NaN</td>\n",
       "      <td>cs.CY</td>\n",
       "      <td>http://creativecommons.org/licenses/by/4.0/</td>\n",
       "      <td>Algorithmic fairness research has traditiona...</td>\n",
       "      <td>[{'version': 'v1', 'created': 'Mon, 10 May 202...</td>\n",
       "      <td>2021-05-11</td>\n",
       "      <td>[['Hannan', 'Jacqueline', ''], ['Chen', 'Huei-...</td>\n",
       "    </tr>\n",
       "  </tbody>\n",
       "</table>\n",
       "</div>"
      ],
      "text/plain": [
       "           id           submitter  \\\n",
       "0  2202.04705           George Li   \n",
       "1  2102.13085  Nikola Jovanovi\\'c   \n",
       "2  2011.12909        Keunhan Park   \n",
       "3  2108.11344     Sarwar J. Minar   \n",
       "4  2105.04452      Kenneth Joseph   \n",
       "\n",
       "                                             authors  \\\n",
       "0  George Li and Ann Li and Madhav Marathe and Ar...   \n",
       "1  Nikola Jovanovi\\'c, Zhao Meng, Lukas Faber, Ro...   \n",
       "2  A. N. M. Taufiq Elahi, Mohammad Ghashami, Devo...   \n",
       "3                                    Sarwar J. Minar   \n",
       "4  Jacqueline Hannan, Huei-Yen Winnie Chen, Kenne...   \n",
       "\n",
       "                                               title  \\\n",
       "0  Deploying Vaccine Distribution Sites for Impro...   \n",
       "1          Towards Robust Graph Contrastive Learning   \n",
       "2  Comprehensive Energy Balance Analysis of Photo...   \n",
       "3  Refugees and Host State Security: An Empirical...   \n",
       "4  Who Gets What, According to Whom? An Analysis ...   \n",
       "\n",
       "                                            comments  \\\n",
       "0       14 pages, 4 figures, to appear at AAMAS 2022   \n",
       "1                                                NaN   \n",
       "2                                31 pages, 7 figures   \n",
       "3  28 pages, 78th Annual Conference of the Midwes...   \n",
       "4                                Accepted at AIES'21   \n",
       "\n",
       "                                       journal-ref  \\\n",
       "0                                              NaN   \n",
       "1                                              NaN   \n",
       "2  Sol. Energy Mater. Sol. Cells 226 (2021) 111067   \n",
       "3                                              NaN   \n",
       "4                                              NaN   \n",
       "\n",
       "                            doi      report-no                 categories  \\\n",
       "0                           NaN            NaN    cs.AI cs.DS cs.MA cs.SI   \n",
       "1                           NaN            NaN  cs.LG cs.AI cs.SI stat.ML   \n",
       "2  10.1016/j.solmat.2021.111067  SOLMAT 111067             physics.app-ph   \n",
       "3                           NaN            NaN           econ.GN q-fin.EC   \n",
       "4       10.1145/3461702.3462568            NaN                      cs.CY   \n",
       "\n",
       "                                       license  \\\n",
       "0  http://creativecommons.org/licenses/by/4.0/   \n",
       "1  http://creativecommons.org/licenses/by/4.0/   \n",
       "2  http://creativecommons.org/licenses/by/4.0/   \n",
       "3  http://creativecommons.org/licenses/by/4.0/   \n",
       "4  http://creativecommons.org/licenses/by/4.0/   \n",
       "\n",
       "                                            abstract  \\\n",
       "0    In response to COVID-19, many countries have...   \n",
       "1    We study the problem of adversarially robust...   \n",
       "2    The present article reports a comprehensive ...   \n",
       "3    Conventional wisdom suggests that large-scal...   \n",
       "4    Algorithmic fairness research has traditiona...   \n",
       "\n",
       "                                            versions update_date  \\\n",
       "0  [{'version': 'v1', 'created': 'Wed, 9 Feb 2022...  2022-02-11   \n",
       "1  [{'version': 'v1', 'created': 'Thu, 25 Feb 202...  2021-02-26   \n",
       "2  [{'version': 'v1', 'created': 'Wed, 25 Nov 202...  2021-04-06   \n",
       "3  [{'version': 'v1', 'created': 'Wed, 25 Aug 202...  2021-08-26   \n",
       "4  [{'version': 'v1', 'created': 'Mon, 10 May 202...  2021-05-11   \n",
       "\n",
       "                                      authors_parsed  \n",
       "0  [['Li', 'George', ''], ['Li', 'Ann', ''], ['Ma...  \n",
       "1  [['Jovanović', 'Nikola', ''], ['Meng', 'Zhao',...  \n",
       "2  [['Elahi', 'A. N. M. Taufiq', ''], ['Ghashami'...  \n",
       "3                       [['Minar', 'Sarwar J.', '']]  \n",
       "4  [['Hannan', 'Jacqueline', ''], ['Chen', 'Huei-...  "
      ]
     },
     "execution_count": 3,
     "metadata": {},
     "output_type": "execute_result"
    }
   ],
   "source": [
    "# convert update_date to datetime\n",
    "# df[\"update_date\"] = pd.to_datetime(df[\"update_date\"])\n",
    "df.head()"
   ]
  },
  {
   "cell_type": "code",
   "execution_count": 4,
   "metadata": {},
   "outputs": [
    {
     "data": {
      "text/plain": [
       "array([2022, 2021, 2019, 2017, 2015, 2020, 2016, 2018])"
      ]
     },
     "execution_count": 4,
     "metadata": {},
     "output_type": "execute_result"
    }
   ],
   "source": [
    "# get all the distinct years in the update_date column\n",
    "df[\"update_date\"].dt.year.unique()"
   ]
  },
  {
   "cell_type": "code",
   "execution_count": 5,
   "metadata": {},
   "outputs": [
    {
     "data": {
      "text/plain": [
       "0"
      ]
     },
     "execution_count": 5,
     "metadata": {},
     "output_type": "execute_result"
    }
   ],
   "source": [
    "# find any duplicate \"id\"\n",
    "df[\"id\"].duplicated().sum()"
   ]
  },
  {
   "cell_type": "code",
   "execution_count": 6,
   "metadata": {},
   "outputs": [
    {
     "data": {
      "text/plain": [
       "2021    28423\n",
       "2022    10089\n",
       "2020     5354\n",
       "2019     2412\n",
       "2018     1834\n",
       "2017      958\n",
       "2016      658\n",
       "2015      272\n",
       "Name: update_date, dtype: int64"
      ]
     },
     "execution_count": 6,
     "metadata": {},
     "output_type": "execute_result"
    }
   ],
   "source": [
    "# get the count of papers by year\n",
    "df[\"update_date\"].dt.year.value_counts()"
   ]
  },
  {
   "cell_type": "code",
   "execution_count": 13,
   "metadata": {},
   "outputs": [
    {
     "name": "stdout",
     "output_type": "stream",
     "text": [
      "/home/tim/Documents/arxiv-code-search\n",
      "/home/tim/Documents/arxiv-code-search/data/processed/labels/index_files\n"
     ]
    }
   ],
   "source": [
    "project_dir = Path.cwd().parent.parent\n",
    "index_file_dir = project_dir / \"data/processed/labels/index_files\"\n",
    "print(project_dir)\n",
    "print(index_file_dir)"
   ]
  },
  {
   "cell_type": "code",
   "execution_count": 55,
   "metadata": {},
   "outputs": [],
   "source": [
    "def load_metadata_csv(metadata_file_path):\n",
    "    \"\"\"\n",
    "    Load arxiv metadata csv file.\n",
    "    Originally extracted from arxiv-metadata-oai-snapshot.json\n",
    "    \"\"\"\n",
    "\n",
    "    dtypes_dict = {\n",
    "        'id': str, \n",
    "        'submitter': str, \n",
    "        'authors': str, \n",
    "        'title': str, \n",
    "        'comments': str, \n",
    "        'journal-ref': str, \n",
    "        'doi': str,\n",
    "        'report-no': str, \n",
    "        'categories': str, \n",
    "        'license': str, \n",
    "        'abstract': str, \n",
    "        'versions': str,\n",
    "        'authors_parsed': str,\n",
    "    }\n",
    "\n",
    "    # if metadata_file_path ends in .gz, use gzip in pandas\n",
    "    if metadata_file_path.suffix == '.gz':\n",
    "        df = pd.read_csv(metadata_file_path, dtype=dtypes_dict, parse_dates=['update_date'], compression='gzip')\n",
    "    else:\n",
    "        df = pd.read_csv(metadata_file_path, dtype=dtypes_dict, parse_dates=['update_date'])\n",
    "\n",
    "    # parse \"versions\" and \"authors_parsed\" columns with eval\n",
    "    df[\"versions\"] = df[\"versions\"].apply(eval)\n",
    "    df[\"authors_parsed\"] = df[\"authors_parsed\"].apply(eval)\n",
    "\n",
    "    return df\n",
    "\n",
    "def select_random_papers(df, index_file_dir, check_duplicates=True, save_csv=True, save_name=None, n_papers=10):\n",
    "    \"\"\"\n",
    "    Select n random papers from df, and ensure\n",
    "    that they are not duplicated in other 'index_of_labels' csvs.\n",
    "    \"\"\"\n",
    "\n",
    "    # get a list of the csv file names\n",
    "    files = os.listdir(index_file_dir)\n",
    "\n",
    "    file_list = [\n",
    "        Path(index_file_dir) / filename\n",
    "        for filename in files\n",
    "        if filename.endswith(\".csv\")\n",
    "        ]\n",
    "\n",
    "    print(file_list)\n",
    "\n",
    "    no_exisiting_index_files = len(file_list)\n",
    "\n",
    "    if check_duplicates and no_exisiting_index_files > 0:\n",
    "        print(\"Checking for duplicates...\")\n",
    "        # load index files with pandas and append to index_data_list\n",
    "        index_data_list = []\n",
    "        for file in file_list:\n",
    "            index_data_list.append(load_metadata_csv(file))\n",
    "\n",
    "        # concatenate index_data_list into one dataframe\n",
    "        df_used = pd.concat(index_data_list).reset_index(drop=True)\n",
    "\n",
    "\n",
    "\n",
    "        # concatenate df and df_used\n",
    "        df_unique = pd.concat([df, df_used], sort=False).drop_duplicates([\"id\"], keep=False)\n",
    "\n",
    "        # get list of ids in df_used and in df_unique, and use set to get unique ids\n",
    "        # ids_used = set(df_used[\"id\"])\n",
    "        # ids_unique = set(df_unique[\"id\"])\n",
    "        # # get unique set between ids_used and ids_unique\n",
    "        # ids_unique_minus_used = ids_unique - ids_used\n",
    "        # print(ids_unique_minus_used)\n",
    "\n",
    "\n",
    "    else:\n",
    "        print(\"Check duplicates not selected...\")\n",
    "        df_unique = df\n",
    "\n",
    "    # select random papers\n",
    "    # check for edge cases where n_papers > df_unique.shape[0]\n",
    "    # or when df_unique.shape[0] is 0\n",
    "    if df_unique.shape[0] == 0:\n",
    "        print(\"No unique papers to select from.\")\n",
    "        return None\n",
    "    elif n_papers > df_unique.shape[0]:\n",
    "        pass\n",
    "    else:\n",
    "        df_unique = df_unique.sample(n_papers)\n",
    "\n",
    "    # save df_unique to csv if save_csv is True\n",
    "    if save_csv:\n",
    "        if save_name is None:\n",
    "            save_name = f\"index_of_papers_for_labels_{no_exisiting_index_files+1}.csv\"\n",
    "        save_path = index_file_dir / save_name\n",
    "        df_unique.to_csv(save_path, index=False)\n",
    "\n",
    "    return df_unique, df_used, save_name"
   ]
  },
  {
   "cell_type": "code",
   "execution_count": 56,
   "metadata": {},
   "outputs": [],
   "source": [
    "from src.data.utils import (\n",
    "    parse_json,\n",
    "    filter_by_category,\n",
    "    filter_by_date,\n",
    "    filter_by_license,\n",
    ")"
   ]
  },
  {
   "cell_type": "code",
   "execution_count": 93,
   "metadata": {},
   "outputs": [
    {
     "name": "stdout",
     "output_type": "stream",
     "text": [
      "(3999, 14)\n"
     ]
    }
   ],
   "source": [
    "df = load_metadata_csv(project_dir / \"data/raw/metadata_subsample_50k.csv\")\n",
    "\n",
    "# df = pd.read_csv(\"/home/tim/Documents/arxiv-code-search/data/raw/metadata_subsample_50k.csv\")\n",
    "# print the column types\n",
    "# print(df.dtypes)\n",
    "\n",
    "df = filter_by_category(df, regex_pattern_cat=r\"\\beess|\\bcs|\\bastro-ph|\\bstat|\\bphysics\")\n",
    "\n",
    "df = filter_by_date(df, start_date=\"2015-01-01\", end_date=\"2019-12-31\")\n",
    "\n",
    "license_filter_list = \"['CC BY 4.0', 'CC0 1.0', 'CC']\"\n",
    "license_filter_list = ast.literal_eval(license_filter_list)\n",
    "df = filter_by_license(df, license_filter_list)\n",
    "print(df.shape)"
   ]
  },
  {
   "cell_type": "code",
   "execution_count": 94,
   "metadata": {},
   "outputs": [
    {
     "name": "stdout",
     "output_type": "stream",
     "text": [
      "Checking for duplicates...\n"
     ]
    },
    {
     "data": {
      "text/plain": [
       "False"
      ]
     },
     "execution_count": 94,
     "metadata": {},
     "output_type": "execute_result"
    }
   ],
   "source": [
    "check_duplicates = True\n",
    "\n",
    "files = os.listdir(index_file_dir)\n",
    "\n",
    "file_list = [\n",
    "    Path(index_file_dir) / filename\n",
    "    for filename in files\n",
    "    if filename.endswith(\".csv\")\n",
    "    ]\n",
    "\n",
    "# print(file_list)\n",
    "\n",
    "no_exisiting_index_files = len(file_list)\n",
    "\n",
    "if check_duplicates and no_exisiting_index_files > 0:\n",
    "    print(\"Checking for duplicates...\")\n",
    "    # load index files with pandas and append to index_data_list\n",
    "    index_data_list = []\n",
    "    for file in file_list:\n",
    "        index_data_list.append(load_metadata_csv(file))\n",
    "\n",
    "    # concatenate index_data_list into one dataframe\n",
    "    df_used = pd.concat(index_data_list).reset_index(drop=True)\n",
    "\n",
    "# check for dulicates. https://stackoverflow.com/a/50243108\n",
    "df['id'].duplicated().any()"
   ]
  },
  {
   "cell_type": "code",
   "execution_count": 95,
   "metadata": {},
   "outputs": [],
   "source": [
    "# get all the ids in df_used and store in a list\n",
    "ids_used = df_used[\"id\"].tolist()\n",
    "\n",
    "df_combined = df[~df[\"id\"].isin(ids_used)]"
   ]
  },
  {
   "cell_type": "code",
   "execution_count": 96,
   "metadata": {},
   "outputs": [],
   "source": [
    "# df_combined = pd.concat([df, df_used], sort=False).reset_index(drop=True)\n",
    "# df_combined.shape\n"
   ]
  },
  {
   "cell_type": "code",
   "execution_count": 97,
   "metadata": {},
   "outputs": [
    {
     "data": {
      "text/plain": [
       "(500, 14)"
      ]
     },
     "execution_count": 97,
     "metadata": {},
     "output_type": "execute_result"
    }
   ],
   "source": [
    "df_combined = df_combined.sample(500)\n",
    "df_combined.shape"
   ]
  },
  {
   "cell_type": "code",
   "execution_count": 98,
   "metadata": {},
   "outputs": [
    {
     "data": {
      "text/plain": [
       "0"
      ]
     },
     "execution_count": 98,
     "metadata": {},
     "output_type": "execute_result"
    }
   ],
   "source": [
    "# load \"index_of_papers_for_labels_5.csv\"\n",
    "df5 = load_metadata_csv(index_file_dir / \"index_of_papers_for_labels_5.csv\")\n",
    "\n",
    "# check if any of the \"id\"s in df5 are in df_unique\n",
    "df5[\"id\"].isin(df_combined[\"id\"]).sum()"
   ]
  },
  {
   "cell_type": "code",
   "execution_count": null,
   "metadata": {},
   "outputs": [],
   "source": []
  },
  {
   "cell_type": "code",
   "execution_count": 58,
   "metadata": {},
   "outputs": [
    {
     "data": {
      "text/plain": [
       "dtype('O')"
      ]
     },
     "execution_count": 58,
     "metadata": {},
     "output_type": "execute_result"
    }
   ],
   "source": [
    "# get the dtype for the id column\n",
    "df[\"id\"].dtype"
   ]
  },
  {
   "cell_type": "code",
   "execution_count": 59,
   "metadata": {},
   "outputs": [
    {
     "name": "stdout",
     "output_type": "stream",
     "text": [
      "[PosixPath('/home/tim/Documents/arxiv-code-search/data/processed/labels/index_files/index_of_papers_for_labels_4.csv'), PosixPath('/home/tim/Documents/arxiv-code-search/data/processed/labels/index_files/index_of_papers_for_labels_2.csv'), PosixPath('/home/tim/Documents/arxiv-code-search/data/processed/labels/index_files/index_of_papers_for_labels_3.csv'), PosixPath('/home/tim/Documents/arxiv-code-search/data/processed/labels/index_files/index_of_papers_for_labels_5.csv'), PosixPath('/home/tim/Documents/arxiv-code-search/data/processed/labels/index_files/index_of_papers_for_labels_1.csv')]\n",
      "Checking for duplicates...\n"
     ]
    }
   ],
   "source": [
    "df_unique, df_used, save_name = select_random_papers(df, index_file_dir, check_duplicates=True, save_csv=False, save_name=None, n_papers=500)"
   ]
  },
  {
   "cell_type": "code",
   "execution_count": 52,
   "metadata": {},
   "outputs": [],
   "source": [
    "# load \"index_of_papers_for_labels_5.csv\"\n",
    "df5 = load_metadata_csv(index_file_dir / \"index_of_papers_for_labels_5.csv\")"
   ]
  },
  {
   "cell_type": "code",
   "execution_count": 53,
   "metadata": {},
   "outputs": [
    {
     "data": {
      "text/plain": [
       "48"
      ]
     },
     "execution_count": 53,
     "metadata": {},
     "output_type": "execute_result"
    }
   ],
   "source": [
    "# check if any of the \"id\"s in df5 are in df_unique\n",
    "df5[\"id\"].isin(df_unique[\"id\"]).sum()"
   ]
  },
  {
   "cell_type": "code",
   "execution_count": null,
   "metadata": {},
   "outputs": [],
   "source": []
  }
 ],
 "metadata": {
  "kernelspec": {
   "display_name": "Python 3.8.13 ('arxiv')",
   "language": "python",
   "name": "python3"
  },
  "language_info": {
   "codemirror_mode": {
    "name": "ipython",
    "version": 3
   },
   "file_extension": ".py",
   "mimetype": "text/x-python",
   "name": "python",
   "nbconvert_exporter": "python",
   "pygments_lexer": "ipython3",
   "version": "3.8.13"
  },
  "orig_nbformat": 4,
  "vscode": {
   "interpreter": {
    "hash": "17e082919eb97a8b1648db68459a0548143f50884a45122adabc4767e3d2dece"
   }
  }
 },
 "nbformat": 4,
 "nbformat_minor": 2
}
