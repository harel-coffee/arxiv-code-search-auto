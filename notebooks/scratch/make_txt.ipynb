{
 "cells": [
  {
   "cell_type": "code",
   "execution_count": 1,
   "metadata": {},
   "outputs": [],
   "source": [
    "import logging\n",
    "from pathlib import Path\n",
    "import pandas as pd\n",
    "from multiprocessing import Pool\n",
    "from pdfminer.pdfinterp import PDFResourceManager, PDFPageInterpreter\n",
    "from pdfminer.converter import TextConverter\n",
    "from pdfminer.layout import LAParams\n",
    "from pdfminer.pdfpage import PDFPage\n",
    "from io import StringIO\n",
    "import os\n",
    "import numpy as np\n",
    "import argparse\n",
    "import tqdm\n",
    "import re\n",
    "import unicodedata\n",
    "from pdfminer import high_level"
   ]
  },
  {
   "cell_type": "code",
   "execution_count": 2,
   "metadata": {},
   "outputs": [
    {
     "name": "stdout",
     "output_type": "stream",
     "text": [
      "project_dir: /home/tim/Documents/arxiv-code-search\n"
     ]
    }
   ],
   "source": [
    "project_dir = Path.cwd().parent.parent\n",
    "print(\"project_dir:\", project_dir)\n",
    "\n",
    "pdf_root_dir = project_dir / \"data/raw/pdfs\""
   ]
  },
  {
   "cell_type": "code",
   "execution_count": 14,
   "metadata": {},
   "outputs": [],
   "source": [
    "# find all the sub folders in the pdf_root_dir\n",
    "pdf_dir_list = [pdf_root_dir / dir_name for dir_name in os.listdir(pdf_root_dir)]"
   ]
  },
  {
   "cell_type": "code",
   "execution_count": 15,
   "metadata": {},
   "outputs": [
    {
     "data": {
      "text/plain": [
       "[PosixPath('/home/tim/Documents/arxiv-code-search/data/raw/pdfs/1'),\n",
       " PosixPath('/home/tim/Documents/arxiv-code-search/data/raw/pdfs/2')]"
      ]
     },
     "execution_count": 15,
     "metadata": {},
     "output_type": "execute_result"
    }
   ],
   "source": [
    "pdf_dir_list"
   ]
  },
  {
   "cell_type": "code",
   "execution_count": 21,
   "metadata": {},
   "outputs": [
    {
     "data": {
      "text/plain": [
       "['pdfs', 'pdfs']"
      ]
     },
     "execution_count": 21,
     "metadata": {},
     "output_type": "execute_result"
    }
   ],
   "source": [
    "# get the second last folder name from each path in pdf_dir_list\n",
    "pdf_dir_list_2 = [pdf_dir.parts[-2] for pdf_dir in pdf_dir_list]\n",
    "pdf_dir_list_2"
   ]
  },
  {
   "cell_type": "code",
   "execution_count": 22,
   "metadata": {},
   "outputs": [
    {
     "data": {
      "text/plain": [
       "[PosixPath('/home/tim/Documents/arxiv-code-search/data/raw/pdfs/1/2105.10702.pdf'),\n",
       " PosixPath('/home/tim/Documents/arxiv-code-search/data/raw/pdfs/1/2011.00242.pdf'),\n",
       " PosixPath('/home/tim/Documents/arxiv-code-search/data/raw/pdfs/1/2011.05411.pdf'),\n",
       " PosixPath('/home/tim/Documents/arxiv-code-search/data/raw/pdfs/1/2010.02554.pdf'),\n",
       " PosixPath('/home/tim/Documents/arxiv-code-search/data/raw/pdfs/1/2111.14671.pdf'),\n",
       " PosixPath('/home/tim/Documents/arxiv-code-search/data/raw/pdfs/1/2010.09647.pdf'),\n",
       " PosixPath('/home/tim/Documents/arxiv-code-search/data/raw/pdfs/1/2201.02733.pdf'),\n",
       " PosixPath('/home/tim/Documents/arxiv-code-search/data/raw/pdfs/1/2108.09408.pdf'),\n",
       " PosixPath('/home/tim/Documents/arxiv-code-search/data/raw/pdfs/1/2103.12883.pdf'),\n",
       " PosixPath('/home/tim/Documents/arxiv-code-search/data/raw/pdfs/1/2202.13728.pdf'),\n",
       " PosixPath('/home/tim/Documents/arxiv-code-search/data/raw/pdfs/2/2104.02307.pdf'),\n",
       " PosixPath('/home/tim/Documents/arxiv-code-search/data/raw/pdfs/2/2103.11630.pdf'),\n",
       " PosixPath('/home/tim/Documents/arxiv-code-search/data/raw/pdfs/2/2201.00732.pdf'),\n",
       " PosixPath('/home/tim/Documents/arxiv-code-search/data/raw/pdfs/2/1706.03171.pdf'),\n",
       " PosixPath('/home/tim/Documents/arxiv-code-search/data/raw/pdfs/2/2102.10939.pdf'),\n",
       " PosixPath('/home/tim/Documents/arxiv-code-search/data/raw/pdfs/2/2103.00265.pdf'),\n",
       " PosixPath('/home/tim/Documents/arxiv-code-search/data/raw/pdfs/2/2105.04903.pdf'),\n",
       " PosixPath('/home/tim/Documents/arxiv-code-search/data/raw/pdfs/2/2109.12907.pdf'),\n",
       " PosixPath('/home/tim/Documents/arxiv-code-search/data/raw/pdfs/2/2110.00074.pdf'),\n",
       " PosixPath('/home/tim/Documents/arxiv-code-search/data/raw/pdfs/2/2109.08237.pdf')]"
      ]
     },
     "execution_count": 22,
     "metadata": {},
     "output_type": "execute_result"
    }
   ],
   "source": [
    "# get the names of each pdf file in each folder\n",
    "\n",
    "all_pdf_file_names = []\n",
    "for pdf_dir in pdf_dir_list:\n",
    "    print(pdf_dir.stem)\n",
    "    files = os.listdir(pdf_dir)\n",
    "\n",
    "    file_list = [\n",
    "        Path(pdf_dir) / filename\n",
    "        for filename in files\n",
    "        if filename.endswith(\".pdf\")\n",
    "    ]\n",
    "\n",
    "    all_pdf_file_names.extend(file_list)\n",
    "\n",
    "all_pdf_file_names\n"
   ]
  },
  {
   "cell_type": "code",
   "execution_count": 26,
   "metadata": {},
   "outputs": [
    {
     "data": {
      "text/plain": [
       "'1'"
      ]
     },
     "execution_count": 26,
     "metadata": {},
     "output_type": "execute_result"
    }
   ],
   "source": [
    "all_pdf_file_names[0].parts[-2]"
   ]
  },
  {
   "cell_type": "code",
   "execution_count": 27,
   "metadata": {},
   "outputs": [
    {
     "data": {
      "text/plain": [
       "pathlib.PosixPath"
      ]
     },
     "execution_count": 27,
     "metadata": {},
     "output_type": "execute_result"
    }
   ],
   "source": [
    "type(all_pdf_file_names[0])"
   ]
  },
  {
   "cell_type": "code",
   "execution_count": null,
   "metadata": {},
   "outputs": [],
   "source": []
  }
 ],
 "metadata": {
  "interpreter": {
   "hash": "17e082919eb97a8b1648db68459a0548143f50884a45122adabc4767e3d2dece"
  },
  "kernelspec": {
   "display_name": "Python 3.8.13 ('arxiv')",
   "language": "python",
   "name": "python3"
  },
  "language_info": {
   "codemirror_mode": {
    "name": "ipython",
    "version": 3
   },
   "file_extension": ".py",
   "mimetype": "text/x-python",
   "name": "python",
   "nbconvert_exporter": "python",
   "pygments_lexer": "ipython3",
   "version": "3.8.13"
  },
  "orig_nbformat": 4
 },
 "nbformat": 4,
 "nbformat_minor": 2
}
