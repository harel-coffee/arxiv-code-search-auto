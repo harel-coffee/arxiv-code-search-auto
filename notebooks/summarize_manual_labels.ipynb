{
 "cells": [
  {
   "cell_type": "markdown",
   "metadata": {},
   "source": [
    "# Summarize the Manually Labeled Paragraphs\n",
    "We can summarize the results from the extracted paragraphs that we've manually labeled.\n",
    "\n",
    "We have four completed \"label\" spreadsheets (.ods files) in the `data/processed/labels/labels_complete_for_viz` folder. We'll visualize the result from these.\n",
    "\n",
    "First, we'll import the necessary packages."
   ]
  },
  {
   "cell_type": "code",
   "execution_count": 2,
   "metadata": {},
   "outputs": [],
   "source": [
    "import pandas as pd\n",
    "import numpy as np\n",
    "from pathlib import Path\n",
    "import matplotlib.pyplot as plt\n",
    "import seaborn as sns\n",
    "from src.visualization.visualize import (\n",
    "    summarize_final_label_file, \n",
    "    plot_percent_articles_by_publisher, \n",
    "    plot_individual_publisher\n",
    "    )"
   ]
  },
  {
   "cell_type": "markdown",
   "metadata": {},
   "source": [
    "The four label files correspond to different publication venues. They are:\n",
    "* [arXiv](https://arxiv.org/) - `labels_1.ods` - 100 articles were randomly sampled\n",
    "* [PHM Conference](https://papers.phmsociety.org/index.php/phmconf/issue/archive) - `labels_phm_97_0-150.ods` - 150 articles were randomly sampled\n",
    "* [Mechanical Systems and Signal Processing](https://www.sciencedirect.com/journal/mechanical-systems-and-signal-processing) (MSSP) - `labels_mssp_99_0-100.ods` - 100 articles were randomly sampled\n",
    "* [Energies](https://www.mdpi.com/journal/energies) `labels_energies_98_0-150.ods` - 150 articles were randomly sampled\n",
    "\n",
    "The sampling was between the years of 2015 and 2021.\n",
    "\n"
   ]
  },
  {
   "cell_type": "markdown",
   "metadata": {},
   "source": []
  }
 ],
 "metadata": {
  "interpreter": {
   "hash": "17e082919eb97a8b1648db68459a0548143f50884a45122adabc4767e3d2dece"
  },
  "kernelspec": {
   "display_name": "Python 3.8.13 ('arxiv')",
   "language": "python",
   "name": "python3"
  },
  "language_info": {
   "codemirror_mode": {
    "name": "ipython",
    "version": 3
   },
   "file_extension": ".py",
   "mimetype": "text/x-python",
   "name": "python",
   "nbconvert_exporter": "python",
   "pygments_lexer": "ipython3",
   "version": "3.8.13"
  },
  "orig_nbformat": 4
 },
 "nbformat": 4,
 "nbformat_minor": 2
}
